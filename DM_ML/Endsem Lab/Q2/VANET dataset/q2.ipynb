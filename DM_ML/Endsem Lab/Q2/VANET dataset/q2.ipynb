{
 "cells": [
  {
   "cell_type": "code",
   "execution_count": 65,
   "metadata": {},
   "outputs": [],
   "source": [
    "import pandas as pd\n",
    "df_att=pd.read_excel('./Jammer/Attacker.xlsx',sheet_name='1OBU')\n",
    "df_nom=pd.read_excel('./Normal/Normal.xlsx',sheet_name='1OBU')"
   ]
  },
  {
   "cell_type": "code",
   "execution_count": 66,
   "metadata": {},
   "outputs": [],
   "source": [
    "df_att.columns=df_att.iloc[0]\n",
    "df_att.drop(index=df_att.index[0], axis=0, inplace=True)\n",
    "df_att.drop(df_att.columns[0], axis=1, inplace=True)\n",
    "df_att.drop(df_att.iloc[: , 11:15], axis=1, inplace=True)\n",
    "df_att = df_att.head(30)"
   ]
  },
  {
   "cell_type": "code",
   "execution_count": 67,
   "metadata": {},
   "outputs": [
    {
     "data": {
      "text/html": [
       "<div>\n",
       "<style scoped>\n",
       "    .dataframe tbody tr th:only-of-type {\n",
       "        vertical-align: middle;\n",
       "    }\n",
       "\n",
       "    .dataframe tbody tr th {\n",
       "        vertical-align: top;\n",
       "    }\n",
       "\n",
       "    .dataframe thead th {\n",
       "        text-align: right;\n",
       "    }\n",
       "</style>\n",
       "<table border=\"1\" class=\"dataframe\">\n",
       "  <thead>\n",
       "    <tr style=\"text-align: right;\">\n",
       "      <th></th>\n",
       "      <th>RSU Intended-Tx</th>\n",
       "      <th>RSU-BTx-Car</th>\n",
       "      <th>RSU-PSR (%)</th>\n",
       "      <th>Car P-Received</th>\n",
       "      <th>Car-PDR (%)</th>\n",
       "      <th>RSU PDSR (%)</th>\n",
       "      <th>Car Received power (dBm)</th>\n",
       "      <th>CAR Intended-Tx</th>\n",
       "      <th>Car-Btx-RSU</th>\n",
       "      <th>RSU P-Received</th>\n",
       "      <th>RSU-PDR (%)</th>\n",
       "    </tr>\n",
       "  </thead>\n",
       "  <tbody>\n",
       "    <tr>\n",
       "      <th>1</th>\n",
       "      <td>10</td>\n",
       "      <td>10</td>\n",
       "      <td>100</td>\n",
       "      <td>1</td>\n",
       "      <td>10</td>\n",
       "      <td>55</td>\n",
       "      <td>-48.672344</td>\n",
       "      <td>10</td>\n",
       "      <td>10</td>\n",
       "      <td>1</td>\n",
       "      <td>10</td>\n",
       "    </tr>\n",
       "    <tr>\n",
       "      <th>2</th>\n",
       "      <td>10</td>\n",
       "      <td>10</td>\n",
       "      <td>100</td>\n",
       "      <td>0</td>\n",
       "      <td>0</td>\n",
       "      <td>50</td>\n",
       "      <td>-44.676311</td>\n",
       "      <td>10</td>\n",
       "      <td>10</td>\n",
       "      <td>1</td>\n",
       "      <td>10</td>\n",
       "    </tr>\n",
       "    <tr>\n",
       "      <th>3</th>\n",
       "      <td>10</td>\n",
       "      <td>8</td>\n",
       "      <td>80</td>\n",
       "      <td>1</td>\n",
       "      <td>12.5</td>\n",
       "      <td>46.25</td>\n",
       "      <td>-46.052743</td>\n",
       "      <td>10</td>\n",
       "      <td>10</td>\n",
       "      <td>0</td>\n",
       "      <td>0</td>\n",
       "    </tr>\n",
       "    <tr>\n",
       "      <th>4</th>\n",
       "      <td>10</td>\n",
       "      <td>10</td>\n",
       "      <td>100</td>\n",
       "      <td>0</td>\n",
       "      <td>0</td>\n",
       "      <td>50</td>\n",
       "      <td>-45.159092</td>\n",
       "      <td>10</td>\n",
       "      <td>10</td>\n",
       "      <td>1</td>\n",
       "      <td>10</td>\n",
       "    </tr>\n",
       "    <tr>\n",
       "      <th>5</th>\n",
       "      <td>10</td>\n",
       "      <td>10</td>\n",
       "      <td>100</td>\n",
       "      <td>1</td>\n",
       "      <td>10</td>\n",
       "      <td>55</td>\n",
       "      <td>-46.319235</td>\n",
       "      <td>10</td>\n",
       "      <td>10</td>\n",
       "      <td>1</td>\n",
       "      <td>10</td>\n",
       "    </tr>\n",
       "  </tbody>\n",
       "</table>\n",
       "</div>"
      ],
      "text/plain": [
       "0 RSU Intended-Tx RSU-BTx-Car RSU-PSR (%) Car P-Received Car-PDR (%)  \\\n",
       "1              10          10         100              1          10   \n",
       "2              10          10         100              0           0   \n",
       "3              10           8          80              1        12.5   \n",
       "4              10          10         100              0           0   \n",
       "5              10          10         100              1          10   \n",
       "\n",
       "0 RSU PDSR (%) Car Received power (dBm) CAR Intended-Tx Car-Btx-RSU  \\\n",
       "1           55               -48.672344              10          10   \n",
       "2           50               -44.676311              10          10   \n",
       "3        46.25               -46.052743              10          10   \n",
       "4           50               -45.159092              10          10   \n",
       "5           55               -46.319235              10          10   \n",
       "\n",
       "0 RSU P-Received RSU-PDR (%)  \n",
       "1              1          10  \n",
       "2              1          10  \n",
       "3              0           0  \n",
       "4              1          10  \n",
       "5              1          10  "
      ]
     },
     "execution_count": 67,
     "metadata": {},
     "output_type": "execute_result"
    }
   ],
   "source": [
    "df_att.head()"
   ]
  },
  {
   "cell_type": "code",
   "execution_count": 68,
   "metadata": {},
   "outputs": [],
   "source": [
    "df_nom.columns=df_nom.iloc[0]\n",
    "df_nom.drop(index=df_nom.index[0], axis=0, inplace=True)\n",
    "df_nom.drop(df_nom.columns[0], axis=1, inplace=True)\n",
    "df_nom.drop(df_nom.iloc[: , 11:31], axis=1, inplace=True)\n",
    "df_nom = df_nom.head(30)"
   ]
  },
  {
   "cell_type": "code",
   "execution_count": 69,
   "metadata": {},
   "outputs": [
    {
     "data": {
      "text/html": [
       "<div>\n",
       "<style scoped>\n",
       "    .dataframe tbody tr th:only-of-type {\n",
       "        vertical-align: middle;\n",
       "    }\n",
       "\n",
       "    .dataframe tbody tr th {\n",
       "        vertical-align: top;\n",
       "    }\n",
       "\n",
       "    .dataframe thead th {\n",
       "        text-align: right;\n",
       "    }\n",
       "</style>\n",
       "<table border=\"1\" class=\"dataframe\">\n",
       "  <thead>\n",
       "    <tr style=\"text-align: right;\">\n",
       "      <th></th>\n",
       "      <th>RSU Intended-Tx</th>\n",
       "      <th>RSU-BTx-Car</th>\n",
       "      <th>RSU-PSR (%)</th>\n",
       "      <th>Car P-Received</th>\n",
       "      <th>Car-PDR (%)</th>\n",
       "      <th>RSU-PDSR (%)</th>\n",
       "      <th>CAR Intended-Tx</th>\n",
       "      <th>Car-Btx-RSU</th>\n",
       "      <th>Car-PSR (%)</th>\n",
       "      <th>RSU P-Received</th>\n",
       "      <th>RSU-PDR (%)</th>\n",
       "    </tr>\n",
       "  </thead>\n",
       "  <tbody>\n",
       "    <tr>\n",
       "      <th>1</th>\n",
       "      <td>10</td>\n",
       "      <td>0</td>\n",
       "      <td>0</td>\n",
       "      <td>0</td>\n",
       "      <td>0</td>\n",
       "      <td>0</td>\n",
       "      <td>10</td>\n",
       "      <td>0</td>\n",
       "      <td>0</td>\n",
       "      <td>0</td>\n",
       "      <td>0</td>\n",
       "    </tr>\n",
       "    <tr>\n",
       "      <th>2</th>\n",
       "      <td>10</td>\n",
       "      <td>10</td>\n",
       "      <td>100</td>\n",
       "      <td>10</td>\n",
       "      <td>100</td>\n",
       "      <td>100</td>\n",
       "      <td>10</td>\n",
       "      <td>9</td>\n",
       "      <td>90</td>\n",
       "      <td>9</td>\n",
       "      <td>100</td>\n",
       "    </tr>\n",
       "    <tr>\n",
       "      <th>3</th>\n",
       "      <td>10</td>\n",
       "      <td>10</td>\n",
       "      <td>100</td>\n",
       "      <td>10</td>\n",
       "      <td>100</td>\n",
       "      <td>100</td>\n",
       "      <td>10</td>\n",
       "      <td>9</td>\n",
       "      <td>90</td>\n",
       "      <td>7</td>\n",
       "      <td>77.777778</td>\n",
       "    </tr>\n",
       "    <tr>\n",
       "      <th>4</th>\n",
       "      <td>10</td>\n",
       "      <td>10</td>\n",
       "      <td>100</td>\n",
       "      <td>10</td>\n",
       "      <td>100</td>\n",
       "      <td>100</td>\n",
       "      <td>10</td>\n",
       "      <td>10</td>\n",
       "      <td>100</td>\n",
       "      <td>10</td>\n",
       "      <td>100</td>\n",
       "    </tr>\n",
       "    <tr>\n",
       "      <th>5</th>\n",
       "      <td>10</td>\n",
       "      <td>10</td>\n",
       "      <td>100</td>\n",
       "      <td>10</td>\n",
       "      <td>100</td>\n",
       "      <td>100</td>\n",
       "      <td>10</td>\n",
       "      <td>10</td>\n",
       "      <td>100</td>\n",
       "      <td>9</td>\n",
       "      <td>90</td>\n",
       "    </tr>\n",
       "  </tbody>\n",
       "</table>\n",
       "</div>"
      ],
      "text/plain": [
       "0 RSU Intended-Tx RSU-BTx-Car RSU-PSR (%) Car P-Received Car-PDR (%)  \\\n",
       "1              10           0           0              0           0   \n",
       "2              10          10         100             10         100   \n",
       "3              10          10         100             10         100   \n",
       "4              10          10         100             10         100   \n",
       "5              10          10         100             10         100   \n",
       "\n",
       "0 RSU-PDSR (%) CAR Intended-Tx Car-Btx-RSU Car-PSR (%) RSU P-Received  \\\n",
       "1            0              10           0           0              0   \n",
       "2          100              10           9          90              9   \n",
       "3          100              10           9          90              7   \n",
       "4          100              10          10         100             10   \n",
       "5          100              10          10         100              9   \n",
       "\n",
       "0 RSU-PDR (%)  \n",
       "1           0  \n",
       "2         100  \n",
       "3   77.777778  \n",
       "4         100  \n",
       "5          90  "
      ]
     },
     "execution_count": 69,
     "metadata": {},
     "output_type": "execute_result"
    }
   ],
   "source": [
    "df_nom.head()"
   ]
  },
  {
   "cell_type": "code",
   "execution_count": 70,
   "metadata": {},
   "outputs": [],
   "source": [
    "from sklearn.preprocessing import MinMaxScaler\n",
    "from sklearn.cluster import KMeans\n",
    "import matplotlib.pyplot as plt\n",
    "import seaborn as sns"
   ]
  },
  {
   "cell_type": "code",
   "execution_count": 71,
   "metadata": {},
   "outputs": [
    {
     "data": {
      "image/png": "[encoded data removed]",
      "text/plain": [
       "<Figure size 432x288 with 1 Axes>"
      ]
     },
     "metadata": {
      "needs_background": "light"
     },
     "output_type": "display_data"
    }
   ],
   "source": [
    "df_att1=df_att\n",
    "cluster = []\n",
    "K = range(1,15)\n",
    "for k in K:\n",
    "    kmean = KMeans(n_clusters=k)\n",
    "    kmean = kmean.fit(df_att1)\n",
    "    cluster.append(kmean.inertia_)\n",
    "plt.plot(K, cluster, 'bx-')\n",
    "plt.xlabel('k')\n",
    "plt.ylabel('Sum_of_squared_distances')\n",
    "plt.title('Elbow Method For Optimal k')\n",
    "plt.show()"
   ]
  },
  {
   "cell_type": "code",
   "execution_count": 72,
   "metadata": {},
   "outputs": [
    {
     "name": "stderr",
     "output_type": "stream",
     "text": [
      "/home/mivin/.local/lib/python3.8/site-packages/seaborn/_decorators.py:36: FutureWarning: Pass the following variables as keyword args: x, y. From version 0.12, the only valid positional argument will be `data`, and passing other arguments without an explicit keyword will result in an error or misinterpretation.\n",
      "  warnings.warn(\n"
     ]
    },
    {
     "data": {
      "image/png": "[encoded data removed]",
      "text/plain": [
       "<Figure size 864x576 with 1 Axes>"
      ]
     },
     "metadata": {
      "needs_background": "light"
     },
     "output_type": "display_data"
    }
   ],
   "source": [
    "km = KMeans(n_clusters=3).fit(df_att1)\n",
    "\n",
    "df_att1['Labels'] = km.labels_\n",
    "\n",
    "plt.figure(figsize=(12, 8))\n",
    "sns.scatterplot(df_att1['Car-PDR (%)'], df_att1['RSU-PDR (%)'], hue=df_att1['Labels'], palette=sns.color_palette('hls', 3))\n",
    "plt.show()"
   ]
  },
  {
   "cell_type": "code",
   "execution_count": 73,
   "metadata": {},
   "outputs": [
    {
     "data": {
      "text/html": [
       "<div>\n",
       "<style scoped>\n",
       "    .dataframe tbody tr th:only-of-type {\n",
       "        vertical-align: middle;\n",
       "    }\n",
       "\n",
       "    .dataframe tbody tr th {\n",
       "        vertical-align: top;\n",
       "    }\n",
       "\n",
       "    .dataframe thead th {\n",
       "        text-align: right;\n",
       "    }\n",
       "</style>\n",
       "<table border=\"1\" class=\"dataframe\">\n",
       "  <thead>\n",
       "    <tr style=\"text-align: right;\">\n",
       "      <th></th>\n",
       "      <th>RSU Intended-Tx</th>\n",
       "      <th>RSU-BTx-Car</th>\n",
       "      <th>RSU-PSR (%)</th>\n",
       "      <th>Car P-Received</th>\n",
       "      <th>Car-PDR (%)</th>\n",
       "      <th>RSU-PDSR (%)</th>\n",
       "      <th>CAR Intended-Tx</th>\n",
       "      <th>Car-Btx-RSU</th>\n",
       "      <th>Car-PSR (%)</th>\n",
       "      <th>RSU P-Received</th>\n",
       "      <th>RSU-PDR (%)</th>\n",
       "    </tr>\n",
       "  </thead>\n",
       "  <tbody>\n",
       "    <tr>\n",
       "      <th>1</th>\n",
       "      <td>10</td>\n",
       "      <td>0</td>\n",
       "      <td>0</td>\n",
       "      <td>0</td>\n",
       "      <td>0</td>\n",
       "      <td>0</td>\n",
       "      <td>10</td>\n",
       "      <td>0</td>\n",
       "      <td>0</td>\n",
       "      <td>0</td>\n",
       "      <td>0</td>\n",
       "    </tr>\n",
       "    <tr>\n",
       "      <th>2</th>\n",
       "      <td>10</td>\n",
       "      <td>10</td>\n",
       "      <td>100</td>\n",
       "      <td>10</td>\n",
       "      <td>100</td>\n",
       "      <td>100</td>\n",
       "      <td>10</td>\n",
       "      <td>9</td>\n",
       "      <td>90</td>\n",
       "      <td>9</td>\n",
       "      <td>100</td>\n",
       "    </tr>\n",
       "    <tr>\n",
       "      <th>3</th>\n",
       "      <td>10</td>\n",
       "      <td>10</td>\n",
       "      <td>100</td>\n",
       "      <td>10</td>\n",
       "      <td>100</td>\n",
       "      <td>100</td>\n",
       "      <td>10</td>\n",
       "      <td>9</td>\n",
       "      <td>90</td>\n",
       "      <td>7</td>\n",
       "      <td>77.777778</td>\n",
       "    </tr>\n",
       "    <tr>\n",
       "      <th>4</th>\n",
       "      <td>10</td>\n",
       "      <td>10</td>\n",
       "      <td>100</td>\n",
       "      <td>10</td>\n",
       "      <td>100</td>\n",
       "      <td>100</td>\n",
       "      <td>10</td>\n",
       "      <td>10</td>\n",
       "      <td>100</td>\n",
       "      <td>10</td>\n",
       "      <td>100</td>\n",
       "    </tr>\n",
       "    <tr>\n",
       "      <th>5</th>\n",
       "      <td>10</td>\n",
       "      <td>10</td>\n",
       "      <td>100</td>\n",
       "      <td>10</td>\n",
       "      <td>100</td>\n",
       "      <td>100</td>\n",
       "      <td>10</td>\n",
       "      <td>10</td>\n",
       "      <td>100</td>\n",
       "      <td>9</td>\n",
       "      <td>90</td>\n",
       "    </tr>\n",
       "  </tbody>\n",
       "</table>\n",
       "</div>"
      ],
      "text/plain": [
       "0 RSU Intended-Tx RSU-BTx-Car RSU-PSR (%) Car P-Received Car-PDR (%)  \\\n",
       "1              10           0           0              0           0   \n",
       "2              10          10         100             10         100   \n",
       "3              10          10         100             10         100   \n",
       "4              10          10         100             10         100   \n",
       "5              10          10         100             10         100   \n",
       "\n",
       "0 RSU-PDSR (%) CAR Intended-Tx Car-Btx-RSU Car-PSR (%) RSU P-Received  \\\n",
       "1            0              10           0           0              0   \n",
       "2          100              10           9          90              9   \n",
       "3          100              10           9          90              7   \n",
       "4          100              10          10         100             10   \n",
       "5          100              10          10         100              9   \n",
       "\n",
       "0 RSU-PDR (%)  \n",
       "1           0  \n",
       "2         100  \n",
       "3   77.777778  \n",
       "4         100  \n",
       "5          90  "
      ]
     },
     "execution_count": 73,
     "metadata": {},
     "output_type": "execute_result"
    }
   ],
   "source": [
    "df_nom2=df_nom\n",
    "df_nom2.head()"
   ]
  },
  {
   "cell_type": "code",
   "execution_count": 74,
   "metadata": {},
   "outputs": [
    {
     "data": {
      "image/png": "[encoded data removed]",
      "text/plain": [
       "<Figure size 432x288 with 1 Axes>"
      ]
     },
     "metadata": {
      "needs_background": "light"
     },
     "output_type": "display_data"
    }
   ],
   "source": [
    "cluster = []\n",
    "K = range(1,15)\n",
    "for k in K:\n",
    "    kmean = KMeans(n_clusters=k)\n",
    "    kmean = kmean.fit(df_nom2)\n",
    "    cluster.append(kmean.inertia_)\n",
    "plt.plot(K, cluster, 'bx-')\n",
    "plt.xlabel('k')\n",
    "plt.ylabel('Sum_of_squared_distances')\n",
    "plt.title('Elbow Method For Optimal k')\n",
    "plt.show()"
   ]
  },
  {
   "cell_type": "code",
   "execution_count": 75,
   "metadata": {},
   "outputs": [
    {
     "name": "stderr",
     "output_type": "stream",
     "text": [
      "/home/mivin/.local/lib/python3.8/site-packages/seaborn/_decorators.py:36: FutureWarning: Pass the following variables as keyword args: x, y. From version 0.12, the only valid positional argument will be `data`, and passing other arguments without an explicit keyword will result in an error or misinterpretation.\n",
      "  warnings.warn(\n"
     ]
    },
    {
     "data": {
      "image/png": "[encoded data removed]",
      "text/plain": [
       "<Figure size 864x576 with 1 Axes>"
      ]
     },
     "metadata": {
      "needs_background": "light"
     },
     "output_type": "display_data"
    }
   ],
   "source": [
    "km = KMeans(n_clusters=2).fit(df_nom2)\n",
    "\n",
    "df_nom2['Labels'] = km.labels_\n",
    "\n",
    "plt.figure(figsize=(12, 8))\n",
    "sns.scatterplot(df_nom2['Car-PDR (%)'], df_nom2['RSU-PSR (%)'], hue=df_nom2['Labels'], palette=sns.color_palette('hls', 2))\n",
    "plt.show()"
   ]
  },
  {
   "cell_type": "code",
   "execution_count": 76,
   "metadata": {},
   "outputs": [
    {
     "data": {
      "text/plain": [
       "AgglomerativeClustering(n_clusters=3)"
      ]
     },
     "execution_count": 76,
     "metadata": {},
     "output_type": "execute_result"
    }
   ],
   "source": [
    "from sklearn.cluster import AgglomerativeClustering\n",
    "hie_clus=AgglomerativeClustering(n_clusters=3,affinity='euclidean',linkage='ward')\n",
    "hie_clus.fit(df_att1)"
   ]
  },
  {
   "cell_type": "code",
   "execution_count": 77,
   "metadata": {},
   "outputs": [
    {
     "data": {
      "image/png": "[encoded data removed]",
      "text/plain": [
       "<Figure size 432x288 with 1 Axes>"
      ]
     },
     "metadata": {
      "needs_background": "light"
     },
     "output_type": "display_data"
    }
   ],
   "source": [
    "df_att1['class'] = hie_clus.labels_\n",
    "plt.title('Predicted Classes')\n",
    "sns.scatterplot(data=df_att1,x='Car-PDR (%)', y='RSU-PDR (%)', hue='class')\n",
    "plt.show()"
   ]
  },
  {
   "cell_type": "code",
   "execution_count": 78,
   "metadata": {},
   "outputs": [
    {
     "data": {
      "text/plain": [
       "AgglomerativeClustering()"
      ]
     },
     "execution_count": 78,
     "metadata": {},
     "output_type": "execute_result"
    }
   ],
   "source": [
    "hie_clus=AgglomerativeClustering(n_clusters=2,affinity='euclidean',linkage='ward')\n",
    "hie_clus.fit(df_nom2)"
   ]
  },
  {
   "cell_type": "code",
   "execution_count": 79,
   "metadata": {},
   "outputs": [],
   "source": [
    "df_nom2['class'] = hie_clus.labels_"
   ]
  },
  {
   "cell_type": "code",
   "execution_count": 80,
   "metadata": {},
   "outputs": [
    {
     "data": {
      "image/png": "[encoded data removed]",
      "text/plain": [
       "<Figure size 432x288 with 1 Axes>"
      ]
     },
     "metadata": {
      "needs_background": "light"
     },
     "output_type": "display_data"
    }
   ],
   "source": [
    "plt.title('Predicted Classes')\n",
    "sns.scatterplot(data=df_nom2,x='Car-PDR (%)', y='RSU-PSR (%)', hue='class')\n",
    "plt.show()"
   ]
  },
  {
   "cell_type": "code",
   "execution_count": 81,
   "metadata": {},
   "outputs": [
    {
     "data": {
      "text/plain": [
       "0.6036474906523533"
      ]
     },
     "execution_count": 81,
     "metadata": {},
     "output_type": "execute_result"
    }
   ],
   "source": [
    "from sklearn.metrics import silhouette_score\n",
    "from sklearn.metrics import pairwise_distances\n",
    "\n",
    "kmeans_model = KMeans(n_clusters = 3, random_state = 1).fit(df_att1)\n",
    "labels = kmeans_model.labels_\n",
    "silhouette_score(df_att1, labels, metric = 'manhattan')"
   ]
  },
  {
   "cell_type": "code",
   "execution_count": 82,
   "metadata": {},
   "outputs": [
    {
     "data": {
      "text/plain": [
       "0.46961224065942336"
      ]
     },
     "execution_count": 82,
     "metadata": {},
     "output_type": "execute_result"
    }
   ],
   "source": [
    "kmeans_model = KMeans(n_clusters = 3, random_state = 1).fit(df_nom2)\n",
    "labels = kmeans_model.labels_\n",
    "silhouette_score(df_nom2, labels, metric = 'manhattan')"
   ]
  }
 ],
 "metadata": {
  "interpreter": {
   "hash": "916dbcbb3f70747c44a77c7bcd40155683ae19c65e1c03b4aa3499c5328201f1"
  },
  "kernelspec": {
   "display_name": "Python 3.8.10 64-bit",
   "language": "python",
   "name": "python3"
  },
  "language_info": {
   "codemirror_mode": {
    "name": "ipython",
    "version": 3
   },
   "file_extension": ".py",
   "mimetype": "text/x-python",
   "name": "python",
   "nbconvert_exporter": "python",
   "pygments_lexer": "ipython3",
   "version": "3.8.10"
  },
  "orig_nbformat": 4
 },
 "nbformat": 4,
 "nbformat_minor": 2
}

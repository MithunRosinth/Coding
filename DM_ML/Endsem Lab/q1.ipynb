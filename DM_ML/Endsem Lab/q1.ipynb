{
 "cells": [
  {
   "cell_type": "code",
   "execution_count": 2,
   "metadata": {},
   "outputs": [],
   "source": [
    "import pandas as pd\n",
    "df=pd.read_csv(\"car.csv\")"
   ]
  },
  {
   "cell_type": "code",
   "execution_count": 3,
   "metadata": {},
   "outputs": [
    {
     "data": {
      "text/html": [
       "<div>\n",
       "<style scoped>\n",
       "    .dataframe tbody tr th:only-of-type {\n",
       "        vertical-align: middle;\n",
       "    }\n",
       "\n",
       "    .dataframe tbody tr th {\n",
       "        vertical-align: top;\n",
       "    }\n",
       "\n",
       "    .dataframe thead th {\n",
       "        text-align: right;\n",
       "    }\n",
       "</style>\n",
       "<table border=\"1\" class=\"dataframe\">\n",
       "  <thead>\n",
       "    <tr style=\"text-align: right;\">\n",
       "      <th></th>\n",
       "      <th>vhigh</th>\n",
       "      <th>vhigh.1</th>\n",
       "      <th>2</th>\n",
       "      <th>2.1</th>\n",
       "      <th>small</th>\n",
       "      <th>low</th>\n",
       "      <th>unacc</th>\n",
       "    </tr>\n",
       "  </thead>\n",
       "  <tbody>\n",
       "    <tr>\n",
       "      <th>0</th>\n",
       "      <td>vhigh</td>\n",
       "      <td>vhigh</td>\n",
       "      <td>2</td>\n",
       "      <td>2</td>\n",
       "      <td>small</td>\n",
       "      <td>med</td>\n",
       "      <td>unacc</td>\n",
       "    </tr>\n",
       "    <tr>\n",
       "      <th>1</th>\n",
       "      <td>vhigh</td>\n",
       "      <td>vhigh</td>\n",
       "      <td>2</td>\n",
       "      <td>2</td>\n",
       "      <td>small</td>\n",
       "      <td>high</td>\n",
       "      <td>unacc</td>\n",
       "    </tr>\n",
       "    <tr>\n",
       "      <th>2</th>\n",
       "      <td>vhigh</td>\n",
       "      <td>vhigh</td>\n",
       "      <td>2</td>\n",
       "      <td>2</td>\n",
       "      <td>med</td>\n",
       "      <td>low</td>\n",
       "      <td>unacc</td>\n",
       "    </tr>\n",
       "    <tr>\n",
       "      <th>3</th>\n",
       "      <td>vhigh</td>\n",
       "      <td>vhigh</td>\n",
       "      <td>2</td>\n",
       "      <td>2</td>\n",
       "      <td>med</td>\n",
       "      <td>med</td>\n",
       "      <td>unacc</td>\n",
       "    </tr>\n",
       "    <tr>\n",
       "      <th>4</th>\n",
       "      <td>vhigh</td>\n",
       "      <td>vhigh</td>\n",
       "      <td>2</td>\n",
       "      <td>2</td>\n",
       "      <td>med</td>\n",
       "      <td>high</td>\n",
       "      <td>unacc</td>\n",
       "    </tr>\n",
       "  </tbody>\n",
       "</table>\n",
       "</div>"
      ],
      "text/plain": [
       "   vhigh vhigh.1  2 2.1  small   low  unacc\n",
       "0  vhigh   vhigh  2   2  small   med  unacc\n",
       "1  vhigh   vhigh  2   2  small  high  unacc\n",
       "2  vhigh   vhigh  2   2    med   low  unacc\n",
       "3  vhigh   vhigh  2   2    med   med  unacc\n",
       "4  vhigh   vhigh  2   2    med  high  unacc"
      ]
     },
     "execution_count": 3,
     "metadata": {},
     "output_type": "execute_result"
    }
   ],
   "source": [
    "df.head()"
   ]
  },
  {
   "cell_type": "code",
   "execution_count": 4,
   "metadata": {},
   "outputs": [
    {
     "name": "stdout",
     "output_type": "stream",
     "text": [
      "<class 'pandas.core.frame.DataFrame'>\n",
      "RangeIndex: 1727 entries, 0 to 1726\n",
      "Data columns (total 7 columns):\n",
      " #   Column   Non-Null Count  Dtype \n",
      "---  ------   --------------  ----- \n",
      " 0   vhigh    1727 non-null   object\n",
      " 1   vhigh.1  1727 non-null   object\n",
      " 2   2        1727 non-null   object\n",
      " 3   2.1      1727 non-null   object\n",
      " 4   small    1727 non-null   object\n",
      " 5   low      1727 non-null   object\n",
      " 6   unacc    1727 non-null   object\n",
      "dtypes: object(7)\n",
      "memory usage: 94.6+ KB\n"
     ]
    }
   ],
   "source": [
    "df.info()"
   ]
  },
  {
   "cell_type": "code",
   "execution_count": 61,
   "metadata": {},
   "outputs": [],
   "source": [
    "df.rename(columns={\"vhigh\":\"Buying\"}, inplace=True)\n",
    "df.rename(columns={\"vhigh.1\":\"Maint\"}, inplace=True)\n",
    "df.rename(columns={\"2\":\"Doors\"}, inplace=True)\n",
    "df.rename(columns={\"2.1\":\"Persons\"}, inplace=True)\n",
    "df.rename(columns={\"small\":\"Lug_Boot\"}, inplace=True)\n",
    "df.rename(columns={\"low\":\"Safety\"}, inplace=True)\n",
    "df.rename(columns={\"unacc\":\"Class\"}, inplace=True)\n"
   ]
  },
  {
   "cell_type": "code",
   "execution_count": 9,
   "metadata": {},
   "outputs": [
    {
     "data": {
      "text/html": [
       "<div>\n",
       "<style scoped>\n",
       "    .dataframe tbody tr th:only-of-type {\n",
       "        vertical-align: middle;\n",
       "    }\n",
       "\n",
       "    .dataframe tbody tr th {\n",
       "        vertical-align: top;\n",
       "    }\n",
       "\n",
       "    .dataframe thead th {\n",
       "        text-align: right;\n",
       "    }\n",
       "</style>\n",
       "<table border=\"1\" class=\"dataframe\">\n",
       "  <thead>\n",
       "    <tr style=\"text-align: right;\">\n",
       "      <th></th>\n",
       "      <th>Buying</th>\n",
       "      <th>Maint</th>\n",
       "      <th>Doors</th>\n",
       "      <th>Persons</th>\n",
       "      <th>Lug_Boot</th>\n",
       "      <th>Safety</th>\n",
       "      <th>Class</th>\n",
       "    </tr>\n",
       "  </thead>\n",
       "  <tbody>\n",
       "    <tr>\n",
       "      <th>0</th>\n",
       "      <td>vhigh</td>\n",
       "      <td>vhigh</td>\n",
       "      <td>2</td>\n",
       "      <td>2</td>\n",
       "      <td>small</td>\n",
       "      <td>med</td>\n",
       "      <td>unacc</td>\n",
       "    </tr>\n",
       "    <tr>\n",
       "      <th>1</th>\n",
       "      <td>vhigh</td>\n",
       "      <td>vhigh</td>\n",
       "      <td>2</td>\n",
       "      <td>2</td>\n",
       "      <td>small</td>\n",
       "      <td>high</td>\n",
       "      <td>unacc</td>\n",
       "    </tr>\n",
       "    <tr>\n",
       "      <th>2</th>\n",
       "      <td>vhigh</td>\n",
       "      <td>vhigh</td>\n",
       "      <td>2</td>\n",
       "      <td>2</td>\n",
       "      <td>med</td>\n",
       "      <td>low</td>\n",
       "      <td>unacc</td>\n",
       "    </tr>\n",
       "    <tr>\n",
       "      <th>3</th>\n",
       "      <td>vhigh</td>\n",
       "      <td>vhigh</td>\n",
       "      <td>2</td>\n",
       "      <td>2</td>\n",
       "      <td>med</td>\n",
       "      <td>med</td>\n",
       "      <td>unacc</td>\n",
       "    </tr>\n",
       "    <tr>\n",
       "      <th>4</th>\n",
       "      <td>vhigh</td>\n",
       "      <td>vhigh</td>\n",
       "      <td>2</td>\n",
       "      <td>2</td>\n",
       "      <td>med</td>\n",
       "      <td>high</td>\n",
       "      <td>unacc</td>\n",
       "    </tr>\n",
       "  </tbody>\n",
       "</table>\n",
       "</div>"
      ],
      "text/plain": [
       "  Buying  Maint Doors Persons Lug_Boot Safety  Class\n",
       "0  vhigh  vhigh     2       2    small    med  unacc\n",
       "1  vhigh  vhigh     2       2    small   high  unacc\n",
       "2  vhigh  vhigh     2       2      med    low  unacc\n",
       "3  vhigh  vhigh     2       2      med    med  unacc\n",
       "4  vhigh  vhigh     2       2      med   high  unacc"
      ]
     },
     "execution_count": 9,
     "metadata": {},
     "output_type": "execute_result"
    }
   ],
   "source": [
    "df.head()"
   ]
  },
  {
   "cell_type": "code",
   "execution_count": 11,
   "metadata": {},
   "outputs": [
    {
     "data": {
      "text/plain": [
       "'\\nbuying: vhigh:4, high:3, med:2, low:1.\\n\\nmaint: vhigh:4, high:3, med:2, low:1.\\n\\ndoors: 2, 3, 4, 5more:6.\\n\\npersons: 2, 4, more:5.\\n\\nlug_boot: small:1, med:2, big:3.\\n\\nsafety: low:1, med:2, high:3. \\n'"
      ]
     },
     "execution_count": 11,
     "metadata": {},
     "output_type": "execute_result"
    }
   ],
   "source": [
    "\"\"\"\n",
    "Replacing Values that are string\n",
    "\n",
    "buying: vhigh:4, high:3, med:2, low:1.\n",
    "\n",
    "maint: vhigh:4, high:3, med:2, low:1.\n",
    "\n",
    "doors: 2, 3, 4, 5more:6.\n",
    "\n",
    "persons: 2, 4, more:5.\n",
    "\n",
    "lug_boot: small:1, med:2, big:3.\n",
    "\n",
    "safety: low:1, med:2, high:3. \n",
    "\"\"\""
   ]
  },
  {
   "cell_type": "code",
   "execution_count": 28,
   "metadata": {},
   "outputs": [],
   "source": [
    "df[\"Buying\"].replace({\"vhigh\": 4, \"high\": 3, \"med\":2, \"low\":1}, inplace=True)\n",
    "df[\"Maint\"].replace({\"vhigh\": 4, \"high\": 3, \"med\":2, \"low\":1}, inplace=True)\n",
    "df[\"Doors\"].replace({\"5more\":6}, inplace=True)\n",
    "df[\"Persons\"].replace({\"more\":5}, inplace=True)\n",
    "df[\"Lug_Boot\"].replace({\"big\": 3, \"med\":2, \"small\":1}, inplace=True)\n",
    "df[\"Safety\"].replace({\"high\": 3, \"med\":2, \"low\":1}, inplace=True)\n"
   ]
  },
  {
   "cell_type": "code",
   "execution_count": 24,
   "metadata": {},
   "outputs": [
    {
     "data": {
      "text/html": [
       "<div>\n",
       "<style scoped>\n",
       "    .dataframe tbody tr th:only-of-type {\n",
       "        vertical-align: middle;\n",
       "    }\n",
       "\n",
       "    .dataframe tbody tr th {\n",
       "        vertical-align: top;\n",
       "    }\n",
       "\n",
       "    .dataframe thead th {\n",
       "        text-align: right;\n",
       "    }\n",
       "</style>\n",
       "<table border=\"1\" class=\"dataframe\">\n",
       "  <thead>\n",
       "    <tr style=\"text-align: right;\">\n",
       "      <th></th>\n",
       "      <th>Buying</th>\n",
       "      <th>Maint</th>\n",
       "      <th>Doors</th>\n",
       "      <th>Persons</th>\n",
       "      <th>Lug_Boot</th>\n",
       "      <th>Safety</th>\n",
       "      <th>Class</th>\n",
       "    </tr>\n",
       "  </thead>\n",
       "  <tbody>\n",
       "    <tr>\n",
       "      <th>0</th>\n",
       "      <td>3</td>\n",
       "      <td>3</td>\n",
       "      <td>2</td>\n",
       "      <td>2</td>\n",
       "      <td>1</td>\n",
       "      <td>2</td>\n",
       "      <td>unacc</td>\n",
       "    </tr>\n",
       "    <tr>\n",
       "      <th>1</th>\n",
       "      <td>3</td>\n",
       "      <td>3</td>\n",
       "      <td>2</td>\n",
       "      <td>2</td>\n",
       "      <td>1</td>\n",
       "      <td>3</td>\n",
       "      <td>unacc</td>\n",
       "    </tr>\n",
       "    <tr>\n",
       "      <th>2</th>\n",
       "      <td>3</td>\n",
       "      <td>3</td>\n",
       "      <td>2</td>\n",
       "      <td>2</td>\n",
       "      <td>2</td>\n",
       "      <td>1</td>\n",
       "      <td>unacc</td>\n",
       "    </tr>\n",
       "    <tr>\n",
       "      <th>3</th>\n",
       "      <td>3</td>\n",
       "      <td>3</td>\n",
       "      <td>2</td>\n",
       "      <td>2</td>\n",
       "      <td>2</td>\n",
       "      <td>2</td>\n",
       "      <td>unacc</td>\n",
       "    </tr>\n",
       "    <tr>\n",
       "      <th>4</th>\n",
       "      <td>3</td>\n",
       "      <td>3</td>\n",
       "      <td>2</td>\n",
       "      <td>2</td>\n",
       "      <td>2</td>\n",
       "      <td>3</td>\n",
       "      <td>unacc</td>\n",
       "    </tr>\n",
       "  </tbody>\n",
       "</table>\n",
       "</div>"
      ],
      "text/plain": [
       "   Buying  Maint Doors Persons  Lug_Boot  Safety  Class\n",
       "0       3      3     2       2         1       2  unacc\n",
       "1       3      3     2       2         1       3  unacc\n",
       "2       3      3     2       2         2       1  unacc\n",
       "3       3      3     2       2         2       2  unacc\n",
       "4       3      3     2       2         2       3  unacc"
      ]
     },
     "execution_count": 24,
     "metadata": {},
     "output_type": "execute_result"
    }
   ],
   "source": [
    "df.head()"
   ]
  },
  {
   "cell_type": "code",
   "execution_count": 14,
   "metadata": {},
   "outputs": [
    {
     "name": "stdout",
     "output_type": "stream",
     "text": [
      "Buying No Null values\n",
      "Maint No Null values\n",
      "Doors No Null values\n",
      "Persons No Null values\n",
      "Lug_Boot No Null values\n",
      "Safety No Null values\n",
      "Class No Null values\n"
     ]
    }
   ],
   "source": [
    "for col in df.columns:\n",
    "    if df[col].isnull().values.any():\n",
    "        print(col, df[col].isnull().sum())\n",
    "    else:\n",
    "        print(col,\"No Null values\")"
   ]
  },
  {
   "cell_type": "code",
   "execution_count": 15,
   "metadata": {},
   "outputs": [
    {
     "name": "stdout",
     "output_type": "stream",
     "text": [
      "Buying 4\n",
      "Maint 4\n",
      "Doors 4\n",
      "Persons 3\n",
      "Lug_Boot 3\n",
      "Safety 3\n",
      "Class 4\n"
     ]
    }
   ],
   "source": [
    "for column in df.columns:\n",
    "    print(column,df[column].nunique())"
   ]
  },
  {
   "cell_type": "code",
   "execution_count": 17,
   "metadata": {},
   "outputs": [],
   "source": [
    "import matplotlib.pyplot as plt\n",
    "import squarify\n",
    "import seaborn as sns"
   ]
  },
  {
   "cell_type": "code",
   "execution_count": 19,
   "metadata": {},
   "outputs": [
    {
     "data": {
      "text/plain": [
       "<seaborn.axisgrid.PairGrid at 0x7fc4a37e6550>"
      ]
     },
     "execution_count": 19,
     "metadata": {},
     "output_type": "execute_result"
    },
    {
     "data": {
      "image/png": "[encoded data removed]",
      "text/plain": [
       "<Figure size 720x720 with 20 Axes>"
      ]
     },
     "metadata": {},
     "output_type": "display_data"
    }
   ],
   "source": [
    "sns.set_theme(style=\"ticks\")\n",
    "sns.pairplot(df)"
   ]
  },
  {
   "cell_type": "code",
   "execution_count": 49,
   "metadata": {},
   "outputs": [],
   "source": [
    "from sklearn import preprocessing\n",
    "df_Car=pd.read_csv(\"car.csv\")\n",
    "df_Car.rename(columns={\"vhigh\":\"Buying\"}, inplace=True)\n",
    "df_Car.rename(columns={\"vhigh.1\":\"Maint\"}, inplace=True)\n",
    "df_Car.rename(columns={\"2\":\"Doors\"}, inplace=True)\n",
    "df_Car.rename(columns={\"2.1\":\"Persons\"}, inplace=True)\n",
    "df_Car.rename(columns={\"small\":\"Lug_Boot\"}, inplace=True)\n",
    "df_Car.rename(columns={\"low\":\"Safety\"}, inplace=True)\n",
    "df_Car.rename(columns={\"unacc\":\"Class\"}, inplace=True)\n",
    "label_encoder = preprocessing.LabelEncoder()\n",
    "df_Car['Buying']= label_encoder.fit_transform(df_Car['Buying'])\n",
    "df_Car['Maint']= label_encoder.fit_transform(df_Car['Maint'])\n",
    "df_Car['Doors']= label_encoder.fit_transform(df_Car['Doors'])\n",
    "df_Car['Persons']= label_encoder.fit_transform(df_Car['Persons'])\n",
    "df_Car['Lug_Boot']= label_encoder.fit_transform(df_Car['Lug_Boot'])\n",
    "df_Car['Safety']= label_encoder.fit_transform(df_Car['Safety'])\n",
    "df_Car['Class']= label_encoder.fit_transform(df_Car['Class'])"
   ]
  },
  {
   "cell_type": "code",
   "execution_count": 50,
   "metadata": {},
   "outputs": [
    {
     "data": {
      "image/png": "[encoded data removed]",
      "text/plain": [
       "<Figure size 432x288 with 2 Axes>"
      ]
     },
     "metadata": {},
     "output_type": "display_data"
    }
   ],
   "source": [
    "sns.heatmap(df_Car.corr());"
   ]
  },
  {
   "cell_type": "code",
   "execution_count": 68,
   "metadata": {},
   "outputs": [
    {
     "name": "stdout",
     "output_type": "stream",
     "text": [
      "38\n",
      "RelationRecord(items=frozenset({'vgood', 'big', 'high', '2'}), support=0.005790387955993051, ordered_statistics=[OrderedStatistic(items_base=frozenset({'vgood', '2'}), items_add=frozenset({'big', 'high'}), confidence=1.0, lift=4.7972222222222225)])\n"
     ]
    }
   ],
   "source": [
    "from apyori import apriori\n",
    "df_car2=pd.read_csv(\"car.csv\")\n",
    "records = []\n",
    "for i in range(0, 1727):\n",
    "    records.append([str(df_car2.values[i,j]) for j in range(0, 7)])\n",
    "    \n",
    "association_rules = apriori(records, min_support=0.0045, min_confidence=0.2, min_lift=3, min_length=2)\n",
    "association_results = list(association_rules)\n",
    "\n",
    "print(len(association_results))\n",
    "print(association_results[0])\n"
   ]
  },
  {
   "cell_type": "code",
   "execution_count": 69,
   "metadata": {},
   "outputs": [
    {
     "name": "stdout",
     "output_type": "stream",
     "text": [
      "Rule: vgood -> big\n",
      "Support: 0.005790387955993051\n",
      "Confidence: 1.0\n",
      "Lift: 4.7972222222222225\n",
      "=====================================\n",
      "Rule: vgood -> big\n",
      "Support: 0.004632310364794441\n",
      "Confidence: 0.7999999999999999\n",
      "Lift: 3.8377777777777777\n",
      "=====================================\n",
      "Rule: big -> high\n",
      "Support: 0.005790387955993051\n",
      "Confidence: 0.6666666666666666\n",
      "Lift: 3.198148148148148\n",
      "=====================================\n",
      "Rule: vgood -> high\n",
      "Support: 0.005790387955993051\n",
      "Confidence: 0.6666666666666666\n",
      "Lift: 3.198148148148148\n",
      "=====================================\n",
      "Rule: 4 -> big\n",
      "Support: 0.01447596988998263\n",
      "Confidence: 0.38461538461538464\n",
      "Lift: 3.690170940170941\n",
      "=====================================\n",
      "Rule: low -> big\n",
      "Support: 0.013896931094383324\n",
      "Confidence: 0.34782608695652173\n",
      "Lift: 3.128623188405797\n",
      "=====================================\n",
      "Rule: big -> high\n",
      "Support: 0.018529241459177764\n",
      "Confidence: 0.4923076923076923\n",
      "Lift: 4.428205128205128\n",
      "=====================================\n",
      "Rule: big -> high\n",
      "Support: 0.013896931094383324\n",
      "Confidence: 0.36923076923076925\n",
      "Lift: 3.3211538461538463\n",
      "=====================================\n",
      "Rule: big -> high\n",
      "Support: 0.011580775911986103\n",
      "Confidence: 0.3076923076923077\n",
      "Lift: 4.4282051282051285\n",
      "=====================================\n",
      "Rule: big -> low\n",
      "Support: 0.009264620729588882\n",
      "Confidence: 0.24615384615384614\n",
      "Lift: 3.542564102564102\n",
      "=====================================\n",
      "Rule: low -> small\n",
      "Support: 0.012159814707585408\n",
      "Confidence: 0.7\n",
      "Lift: 3.3674094707520887\n",
      "=====================================\n",
      "Rule: low -> med\n",
      "Support: 0.017371163867979156\n",
      "Confidence: 0.4347826086956522\n",
      "Lift: 3.0276998597475457\n",
      "=====================================\n",
      "Rule: high -> low\n",
      "Support: 0.016213086276780544\n",
      "Confidence: 0.4307692307692308\n",
      "Lift: 3.8746794871794874\n",
      "=====================================\n",
      "Rule: low -> vgood\n",
      "Support: 0.004632310364794441\n",
      "Confidence: 0.7999999999999999\n",
      "Lift: 7.195833333333333\n",
      "=====================================\n",
      "Rule: low -> vgood\n",
      "Support: 0.004632310364794441\n",
      "Confidence: 0.5333333333333332\n",
      "Lift: 4.797222222222222\n",
      "=====================================\n",
      "Rule: low -> 3\n",
      "Support: 0.004632310364794441\n",
      "Confidence: 0.4444444444444444\n",
      "Lift: 3.094982078853046\n",
      "=====================================\n",
      "Rule: low -> vgood\n",
      "Support: 0.004632310364794441\n",
      "Confidence: 0.5333333333333332\n",
      "Lift: 4.797222222222222\n",
      "=====================================\n",
      "Rule: vgood -> high\n",
      "Support: 0.004632310364794441\n",
      "Confidence: 0.5333333333333332\n",
      "Lift: 3.713978494623655\n",
      "=====================================\n",
      "Rule: med -> low\n",
      "Support: 0.008685581933989578\n",
      "Confidence: 0.2173913043478261\n",
      "Lift: 3.910778985507247\n",
      "=====================================\n",
      "Rule: low -> vgood\n",
      "Support: 0.011580775911986103\n",
      "Confidence: 0.3076923076923077\n",
      "Lift: 5.535256410256411\n",
      "=====================================\n",
      "Rule: med -> vgood\n",
      "Support: 0.008685581933989578\n",
      "Confidence: 0.2307692307692308\n",
      "Lift: 4.151442307692308\n",
      "=====================================\n",
      "Rule: low -> high\n",
      "Support: 0.008685581933989578\n",
      "Confidence: 0.2173913043478261\n",
      "Lift: 3.910778985507247\n",
      "=====================================\n",
      "Rule: high -> small\n",
      "Support: 0.005790387955993051\n",
      "Confidence: 0.3333333333333333\n",
      "Lift: 3.198148148148148\n",
      "=====================================\n",
      "Rule: low -> vgood\n",
      "Support: 0.012738853503184714\n",
      "Confidence: 0.3384615384615385\n",
      "Lift: 3.4793040293040294\n",
      "=====================================\n",
      "Rule: low -> vgood\n",
      "Support: 0.004632310364794441\n",
      "Confidence: 0.39999999999999997\n",
      "Lift: 3.5979166666666664\n",
      "=====================================\n",
      "Rule: low -> 5more\n",
      "Support: 0.004632310364794441\n",
      "Confidence: 0.4444444444444444\n",
      "Lift: 3.094982078853046\n",
      "=====================================\n",
      "Rule: low -> vgood\n",
      "Support: 0.006948465547191662\n",
      "Confidence: 0.6\n",
      "Lift: 3.0839285714285714\n",
      "=====================================\n",
      "Rule: low -> vgood\n",
      "Support: 0.004632310364794441\n",
      "Confidence: 0.39999999999999997\n",
      "Lift: 3.5979166666666664\n",
      "=====================================\n",
      "Rule: med -> low\n",
      "Support: 0.006948465547191662\n",
      "Confidence: 0.5\n",
      "Lift: 3.481854838709677\n",
      "=====================================\n",
      "Rule: med -> low\n",
      "Support: 0.009264620729588882\n",
      "Confidence: 0.24615384615384614\n",
      "Lift: 5.904273504273504\n",
      "=====================================\n",
      "Rule: low -> vgood\n",
      "Support: 0.009264620729588882\n",
      "Confidence: 0.24615384615384614\n",
      "Lift: 6.642307692307693\n",
      "=====================================\n",
      "Rule: med -> vgood\n",
      "Support: 0.006948465547191662\n",
      "Confidence: 0.24489795918367346\n",
      "Lift: 3.524489795918367\n",
      "=====================================\n",
      "Rule: low -> high\n",
      "Support: 0.008106543138390272\n",
      "Confidence: 0.2028985507246377\n",
      "Lift: 4.866747181964573\n",
      "=====================================\n",
      "Rule: low -> high\n",
      "Support: 0.0052113491603937466\n",
      "Confidence: 0.3\n",
      "Lift: 4.3175\n",
      "=====================================\n",
      "Rule: low -> vgood\n",
      "Support: 0.011580775911986103\n",
      "Confidence: 0.3076923076923077\n",
      "Lift: 4.7445054945054945\n",
      "=====================================\n",
      "Rule: med -> low\n",
      "Support: 0.005790387955993051\n",
      "Confidence: 0.25\n",
      "Lift: 5.996527777777778\n",
      "=====================================\n",
      "Rule: low -> high\n",
      "Support: 0.005790387955993051\n",
      "Confidence: 0.22222222222222224\n",
      "Lift: 5.330246913580247\n",
      "=====================================\n",
      "Rule: med -> low\n",
      "Support: 0.004632310364794441\n",
      "Confidence: 0.22857142857142856\n",
      "Lift: 5.482539682539683\n",
      "=====================================\n"
     ]
    }
   ],
   "source": [
    "for item in association_results:\n",
    "\n",
    "    pair = item[0] \n",
    "    items = [x for x in pair]\n",
    "    print(\"Rule: \" + items[0] + \" -> \" + items[1])\n",
    "    print(\"Support: \" + str(item[1]))\n",
    "\n",
    "    print(\"Confidence: \" + str(item[2][0][2]))\n",
    "    print(\"Lift: \" + str(item[2][0][3]))\n",
    "    print(\"=====================================\")"
   ]
  },
  {
   "cell_type": "code",
   "execution_count": null,
   "metadata": {},
   "outputs": [],
   "source": [
    "\"\"\"\n",
    "Inferneces\n",
    "1.Higher the quality of the vehicle higher is its safety(vgood -> high)\n",
    "2.Higher the no of people the car can accomodate, higher is the luggage boot space (more -> big)\n",
    "3.Cars that are safer have large boot space (high -> big)\n",
    "4.Cars with lower safety tend to have more maintanence cost (low -> high)\n",
    "5.Cars with low safety usually have more people capacity (low -> more)\n",
    "\"\"\""
   ]
  }
 ],
 "metadata": {
  "interpreter": {
   "hash": "916dbcbb3f70747c44a77c7bcd40155683ae19c65e1c03b4aa3499c5328201f1"
  },
  "kernelspec": {
   "display_name": "Python 3.8.10 64-bit",
   "language": "python",
   "name": "python3"
  },
  "language_info": {
   "codemirror_mode": {
    "name": "ipython",
    "version": 3
   },
   "file_extension": ".py",
   "mimetype": "text/x-python",
   "name": "python",
   "nbconvert_exporter": "python",
   "pygments_lexer": "ipython3",
   "version": "3.8.10"
  },
  "orig_nbformat": 4
 },
 "nbformat": 4,
 "nbformat_minor": 2
}

{
 "cells": [
  {
   "cell_type": "code",
   "execution_count": 3,
   "source": [
    "import numpy as np\r\n",
    "import pandas as pd\r\n",
    "import statsmodels.api as sm\r\n",
    "import matplotlib.pyplot as plt\r\n",
    "import seaborn as sns\r\n",
    "sns.set()\r\n",
    "from sklearn.cluster import KMeans"
   ],
   "outputs": [],
   "metadata": {}
  },
  {
   "cell_type": "code",
   "execution_count": null,
   "source": [
    "data=pd.read_csv('train.csv')\r\n",
    "data"
   ],
   "outputs": [],
   "metadata": {}
  },
  {
   "cell_type": "code",
   "execution_count": null,
   "source": [
    "data=data[1:100]"
   ],
   "outputs": [],
   "metadata": {}
  },
  {
   "cell_type": "code",
   "execution_count": null,
   "source": [
    "from sklearn import preprocessing\r\n",
    "label_encoder = preprocessing.LabelEncoder()\r\n",
    "data['Age']= label_encoder.fit_transform(data['Age'])\r\n",
    "data['Age'].value_counts()"
   ],
   "outputs": [],
   "metadata": {}
  },
  {
   "cell_type": "code",
   "execution_count": null,
   "source": [
    "data.replace({'Gender':{'F':0,'M':1}}, inplace=True)"
   ],
   "outputs": [],
   "metadata": {}
  },
  {
   "cell_type": "code",
   "execution_count": null,
   "source": [
    "x=data.iloc[:,2:4]\r\n",
    "x"
   ],
   "outputs": [],
   "metadata": {}
  },
  {
   "cell_type": "code",
   "execution_count": null,
   "source": [
    "kmeans = KMeans(2)\r\n",
    "kmeans.fit(x)"
   ],
   "outputs": [],
   "metadata": {}
  },
  {
   "cell_type": "code",
   "execution_count": null,
   "source": [
    "identified_clusters = kmeans.fit_predict(x)\r\n",
    "identified_clusters"
   ],
   "outputs": [],
   "metadata": {}
  },
  {
   "cell_type": "code",
   "execution_count": null,
   "source": [
    "data_with_clusters = data.copy()\r\n",
    "data_with_clusters['Clusters'] = identified_clusters \r\n",
    "plt.scatter(data_with_clusters['Gender'],data_with_clusters['Age'],c=data_with_clusters['Clusters'],cmap='rainbow')"
   ],
   "outputs": [],
   "metadata": {}
  },
  {
   "cell_type": "code",
   "execution_count": null,
   "source": [
    "Sum_of_squared_distances = []\r\n",
    "K = range(1,15)\r\n",
    "for k in K:\r\n",
    "    km = KMeans(n_clusters=k)\r\n",
    "    km = km.fit(x)\r\n",
    "    Sum_of_squared_distances.append(km.inertia_)"
   ],
   "outputs": [],
   "metadata": {}
  },
  {
   "cell_type": "code",
   "execution_count": null,
   "source": [
    "plt.plot(K, Sum_of_squared_distances, 'bx-')\r\n",
    "plt.xlabel('k')\r\n",
    "plt.ylabel('Sum_of_squared_distances')\r\n",
    "plt.title('Elbow Method For Optimal k')\r\n",
    "plt.show()"
   ],
   "outputs": [],
   "metadata": {}
  },
  {
   "cell_type": "code",
   "execution_count": null,
   "source": [
    "from sklearn_extra.cluster import KMedoids\r\n",
    "kmed=KMedoids(n_clusters=2).fit(x)\r\n",
    "plt.scatter(data_with_clusters['Gender'],data_with_clusters['Age'],c=data_with_clusters['Clusters'],cmap='coolwarm')\r\n",
    "plt.show()"
   ],
   "outputs": [],
   "metadata": {}
  }
 ],
 "metadata": {
  "orig_nbformat": 4,
  "language_info": {
   "name": "python",
   "version": "3.9.7",
   "mimetype": "text/x-python",
   "codemirror_mode": {
    "name": "ipython",
    "version": 3
   },
   "pygments_lexer": "ipython3",
   "nbconvert_exporter": "python",
   "file_extension": ".py"
  },
  "kernelspec": {
   "name": "python3",
   "display_name": "Python 3.9.7 64-bit"
  },
  "interpreter": {
   "hash": "f4fde45515710cbe4f4cf44a8ddef1b298277709bd6c5462499553af68a98f2e"
  }
 },
 "nbformat": 4,
 "nbformat_minor": 2
}
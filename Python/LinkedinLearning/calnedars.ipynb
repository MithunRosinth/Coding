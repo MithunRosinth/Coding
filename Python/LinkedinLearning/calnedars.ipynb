{
 "cells": [
  {
   "cell_type": "code",
   "execution_count": 1,
   "metadata": {},
   "outputs": [
    {
     "name": "stdout",
     "output_type": "stream",
     "text": [
      "    January 2022\n",
      "Su Mo Tu We Th Fr Sa\n",
      "                   1\n",
      " 2  3  4  5  6  7  8\n",
      " 9 10 11 12 13 14 15\n",
      "16 17 18 19 20 21 22\n",
      "23 24 25 26 27 28 29\n",
      "30 31\n",
      "\n"
     ]
    }
   ],
   "source": [
    "import calendar\n",
    "c= calendar.TextCalendar(calendar.SUNDAY)\n",
    "st= c.formatmonth(2022,1,0,0)\n",
    "print(st)"
   ]
  },
  {
   "cell_type": "code",
   "execution_count": 2,
   "metadata": {},
   "outputs": [
    {
     "name": "stdout",
     "output_type": "stream",
     "text": [
      "    January 2022\n",
      "Mo Tu We Th Fr Sa Su\n",
      "                1  2\n",
      " 3  4  5  6  7  8  9\n",
      "10 11 12 13 14 15 16\n",
      "17 18 19 20 21 22 23\n",
      "24 25 26 27 28 29 30\n",
      "31\n",
      "\n"
     ]
    }
   ],
   "source": [
    "c= calendar.TextCalendar(calendar.MONDAY)\n",
    "st= c.formatmonth(2022,1,0,0)\n",
    "print(st)"
   ]
  },
  {
   "cell_type": "code",
   "execution_count": 4,
   "metadata": {},
   "outputs": [
    {
     "name": "stdout",
     "output_type": "stream",
     "text": [
      "<table border=\"0\" cellpadding=\"0\" cellspacing=\"0\" class=\"month\">\n",
      "<tr><th colspan=\"7\" class=\"month\">January 2022</th></tr>\n",
      "<tr><th class=\"mon\">Mon</th><th class=\"tue\">Tue</th><th class=\"wed\">Wed</th><th class=\"thu\">Thu</th><th class=\"fri\">Fri</th><th class=\"sat\">Sat</th><th class=\"sun\">Sun</th></tr>\n",
      "<tr><td class=\"noday\">&nbsp;</td><td class=\"noday\">&nbsp;</td><td class=\"noday\">&nbsp;</td><td class=\"noday\">&nbsp;</td><td class=\"noday\">&nbsp;</td><td class=\"sat\">1</td><td class=\"sun\">2</td></tr>\n",
      "<tr><td class=\"mon\">3</td><td class=\"tue\">4</td><td class=\"wed\">5</td><td class=\"thu\">6</td><td class=\"fri\">7</td><td class=\"sat\">8</td><td class=\"sun\">9</td></tr>\n",
      "<tr><td class=\"mon\">10</td><td class=\"tue\">11</td><td class=\"wed\">12</td><td class=\"thu\">13</td><td class=\"fri\">14</td><td class=\"sat\">15</td><td class=\"sun\">16</td></tr>\n",
      "<tr><td class=\"mon\">17</td><td class=\"tue\">18</td><td class=\"wed\">19</td><td class=\"thu\">20</td><td class=\"fri\">21</td><td class=\"sat\">22</td><td class=\"sun\">23</td></tr>\n",
      "<tr><td class=\"mon\">24</td><td class=\"tue\">25</td><td class=\"wed\">26</td><td class=\"thu\">27</td><td class=\"fri\">28</td><td class=\"sat\">29</td><td class=\"sun\">30</td></tr>\n",
      "<tr><td class=\"mon\">31</td><td class=\"noday\">&nbsp;</td><td class=\"noday\">&nbsp;</td><td class=\"noday\">&nbsp;</td><td class=\"noday\">&nbsp;</td><td class=\"noday\">&nbsp;</td><td class=\"noday\">&nbsp;</td></tr>\n",
      "</table>\n",
      "\n"
     ]
    }
   ],
   "source": [
    "# HTML Formatted Calendar\n",
    "hc=calendar.HTMLCalendar(calendar.MONDAY)\n",
    "st= hc.formatmonth(2022,1)\n",
    "print(st)"
   ]
  },
  {
   "cell_type": "code",
   "execution_count": 5,
   "metadata": {},
   "outputs": [
    {
     "name": "stdout",
     "output_type": "stream",
     "text": [
      "2022-10-30\n",
      "2022-10-31\n",
      "2022-11-01\n",
      "2022-11-02\n",
      "2022-11-03\n",
      "2022-11-04\n",
      "2022-11-05\n",
      "2022-11-06\n",
      "2022-11-07\n",
      "2022-11-08\n",
      "2022-11-09\n",
      "2022-11-10\n",
      "2022-11-11\n",
      "2022-11-12\n",
      "2022-11-13\n",
      "2022-11-14\n",
      "2022-11-15\n",
      "2022-11-16\n",
      "2022-11-17\n",
      "2022-11-18\n",
      "2022-11-19\n",
      "2022-11-20\n",
      "2022-11-21\n",
      "2022-11-22\n",
      "2022-11-23\n",
      "2022-11-24\n",
      "2022-11-25\n",
      "2022-11-26\n",
      "2022-11-27\n",
      "2022-11-28\n",
      "2022-11-29\n",
      "2022-11-30\n",
      "2022-12-01\n",
      "2022-12-02\n",
      "2022-12-03\n"
     ]
    }
   ],
   "source": [
    "#operations using calendar -> calculates according to week\n",
    "c= calendar.TextCalendar(calendar.SUNDAY)\n",
    "for i in c.itermonthdates(2022,11):\n",
    "    print(i)"
   ]
  },
  {
   "cell_type": "code",
   "execution_count": 6,
   "metadata": {},
   "outputs": [
    {
     "name": "stdout",
     "output_type": "stream",
     "text": [
      "\n",
      "January\n",
      "February\n",
      "March\n",
      "April\n",
      "May\n",
      "June\n",
      "July\n",
      "August\n",
      "September\n",
      "October\n",
      "November\n",
      "December\n"
     ]
    }
   ],
   "source": [
    "# Calendar formating according to locale\n",
    "for name in calendar.month_name:\n",
    "    print(name)"
   ]
  },
  {
   "cell_type": "code",
   "execution_count": null,
   "metadata": {},
   "outputs": [],
   "source": [
    "# Calculating the first fridays of every month on next year\n",
    "for m in range(1,13):\n",
    "    cal = calendar.monthcalendar(2023,m)\n",
    "    # the first week or the second will surely contain the first friday of the month\n",
    "    weekone=cal[0]\n",
    "    weektwo=cal[1]\n",
    "\n",
    "    if weekone[calendar.FRIDAY]!=0:\n",
    "        meetday=weekone[calendar.FRIDAY]\n",
    "    else:\n",
    "        meetday=weektwo[calendar.FRIDAY]\n",
    "    \n",
    "    print(\"%10s %2d\" % (calendar.month_name[m], meetday))"
   ]
  }
 ],
 "metadata": {
  "interpreter": {
   "hash": "b89b5cfaba6639976dc87ff2fec6d58faec662063367e2c229c520fe71072417"
  },
  "kernelspec": {
   "display_name": "Python 3.10.1 64-bit",
   "language": "python",
   "name": "python3"
  },
  "language_info": {
   "codemirror_mode": {
    "name": "ipython",
    "version": 3
   },
   "file_extension": ".py",
   "mimetype": "text/x-python",
   "name": "python",
   "nbconvert_exporter": "python",
   "pygments_lexer": "ipython3",
   "version": "3.10.1"
  },
  "orig_nbformat": 4
 },
 "nbformat": 4,
 "nbformat_minor": 2
}

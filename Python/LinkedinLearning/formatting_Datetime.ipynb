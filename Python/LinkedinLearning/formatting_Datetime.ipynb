{
 "cells": [
  {
   "cell_type": "code",
   "execution_count": 4,
   "metadata": {},
   "outputs": [
    {
     "name": "stdout",
     "output_type": "stream",
     "text": [
      "The current year is : 2022\n",
      "Sun, 23, January, 22\n"
     ]
    }
   ],
   "source": [
    "from datetime import datetime\n",
    "\n",
    "now=datetime.now()\n",
    "print(now.strftime(\"The current year is : %Y\"))\n",
    "print(now.strftime(\"%a, %d, %B, %y\"))\n"
   ]
  },
  {
   "cell_type": "code",
   "execution_count": 5,
   "metadata": {},
   "outputs": [
    {
     "name": "stdout",
     "output_type": "stream",
     "text": [
      "Sun Jan 23 15:22:56 2022\n",
      "01/23/22\n",
      "15:22:56\n"
     ]
    }
   ],
   "source": [
    "# Current locale date and time\n",
    "print(now.strftime(\"%c\"))\n",
    "# Current locale date\n",
    "print(now.strftime(\"%x\"))\n",
    "# Current locale time\n",
    "print(now.strftime(\"%X\"))"
   ]
  },
  {
   "cell_type": "code",
   "execution_count": 6,
   "metadata": {},
   "outputs": [
    {
     "name": "stdout",
     "output_type": "stream",
     "text": [
      "03:22:56 PM\n",
      "15:22\n"
     ]
    }
   ],
   "source": [
    "# Formatted time\n",
    "print(now.strftime(\"%I:%M:%S %p\"))\n",
    "print(now.strftime(\"%H:%M:%S\"))"
   ]
  }
 ],
 "metadata": {
  "interpreter": {
   "hash": "b89b5cfaba6639976dc87ff2fec6d58faec662063367e2c229c520fe71072417"
  },
  "kernelspec": {
   "display_name": "Python 3.10.1 64-bit",
   "language": "python",
   "name": "python3"
  },
  "language_info": {
   "codemirror_mode": {
    "name": "ipython",
    "version": 3
   },
   "file_extension": ".py",
   "mimetype": "text/x-python",
   "name": "python",
   "nbconvert_exporter": "python",
   "pygments_lexer": "ipython3",
   "version": "3.10.1"
  },
  "orig_nbformat": 4
 },
 "nbformat": 4,
 "nbformat_minor": 2
}

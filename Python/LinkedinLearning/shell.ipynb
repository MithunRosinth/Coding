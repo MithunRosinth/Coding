{
 "cells": [
  {
   "cell_type": "code",
   "execution_count": 2,
   "metadata": {},
   "outputs": [],
   "source": [
    "import os\n",
    "from os import path\n",
    "import shutil\n",
    "\n",
    "#making a duplicate of a existing file -> copies only the contents of the file\n",
    "if path.exists(\"textfile.txt\"):\n",
    "    src=path.realpath(\"textfile.txt\")\n",
    "    dst=src+\".bak\"\n",
    "    shutil.copy(src,dst)"
   ]
  },
  {
   "cell_type": "code",
   "execution_count": 3,
   "metadata": {},
   "outputs": [],
   "source": [
    "# copying the attributes of the file as well\n",
    "shutil.copystat(src,dst)"
   ]
  },
  {
   "cell_type": "code",
   "execution_count": 4,
   "metadata": {},
   "outputs": [],
   "source": [
    "# Rename a file\n",
    "os.rename(\"textfile.txt\",\"newfile.txt\")"
   ]
  },
  {
   "cell_type": "code",
   "execution_count": 5,
   "metadata": {},
   "outputs": [
    {
     "data": {
      "text/plain": [
       "'d:\\\\Coding\\\\Python\\\\LinkedinLearning\\\\archive.zip'"
      ]
     },
     "execution_count": 5,
     "metadata": {},
     "output_type": "execute_result"
    }
   ],
   "source": [
    "# archiving the whole root directory\n",
    "from shutil import make_archive\n",
    "root_dir,tail=path.split(src)\n",
    "shutil.make_archive(\"archive\",\"zip\",root_dir)"
   ]
  },
  {
   "cell_type": "code",
   "execution_count": null,
   "metadata": {},
   "outputs": [],
   "source": [
    "# Specifying what to archive\n",
    "from zipfile import ZipFile\n",
    "# with keyword creates a local scope for the newzip variable\n",
    "with ZipFile(\"testzip.zip\", \"w\") as newzip:\n",
    "    newzip.write(\"textfile.txt\")\n",
    "    newzip.write(\"textfile.txt.bak\")"
   ]
  }
 ],
 "metadata": {
  "interpreter": {
   "hash": "b89b5cfaba6639976dc87ff2fec6d58faec662063367e2c229c520fe71072417"
  },
  "kernelspec": {
   "display_name": "Python 3.10.1 64-bit",
   "language": "python",
   "name": "python3"
  },
  "language_info": {
   "codemirror_mode": {
    "name": "ipython",
    "version": 3
   },
   "file_extension": ".py",
   "mimetype": "text/x-python",
   "name": "python",
   "nbconvert_exporter": "python",
   "pygments_lexer": "ipython3",
   "version": "3.10.1"
  },
  "orig_nbformat": 4
 },
 "nbformat": 4,
 "nbformat_minor": 2
}

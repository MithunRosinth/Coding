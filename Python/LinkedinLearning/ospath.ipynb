{
 "cells": [
  {
   "cell_type": "code",
   "execution_count": 1,
   "metadata": {},
   "outputs": [
    {
     "name": "stdout",
     "output_type": "stream",
     "text": [
      "nt\n"
     ]
    }
   ],
   "source": [
    "# importing the OS module\n",
    "import os\n",
    "from os import path\n",
    "\n",
    "print(os.name)"
   ]
  },
  {
   "cell_type": "code",
   "execution_count": 4,
   "metadata": {},
   "outputs": [
    {
     "name": "stdout",
     "output_type": "stream",
     "text": [
      "True\n",
      "True\n",
      "False\n"
     ]
    }
   ],
   "source": [
    "# checking if a path exists\n",
    "print(str(path.exists(\"D:\\Learning\\CIR-technical-Session\")))\n",
    "# checking if it is a directory\n",
    "print(str(path.isdir(\"D:\\Learning\\CIR-technical-Session\")))\n",
    "# checking if it is a file\n",
    "print(str(path.isfile(\"D:\\Learning\\CIR-technical-Session\")))"
   ]
  },
  {
   "cell_type": "code",
   "execution_count": 5,
   "metadata": {},
   "outputs": [
    {
     "name": "stdout",
     "output_type": "stream",
     "text": [
      "D:\\Coding\\Python\\LinkedinLearning\\textfile.txt\n",
      "('D:\\\\Coding\\\\Python\\\\LinkedinLearning', 'textfile.txt')\n"
     ]
    }
   ],
   "source": [
    "# getting an item's full path\n",
    "print(str(path.realpath(\"textfile.txt\")))\n",
    "# getting an item's path and name separately\n",
    "print(str(path.split(path.realpath(\"textfile.txt\"))))"
   ]
  },
  {
   "cell_type": "code",
   "execution_count": 14,
   "metadata": {},
   "outputs": [
    {
     "name": "stdout",
     "output_type": "stream",
     "text": [
      "Sun Jan 23 17:32:40 2022\n",
      "2022-01-23 17:32:40.989178\n"
     ]
    }
   ],
   "source": [
    "# Getting file modification time -> two methods using time and datetime\n",
    "import time\n",
    "from datetime import date, timedelta\n",
    "import datetime\n",
    "\n",
    "t=time.ctime(path.getmtime(\"textfile.txt\"))\n",
    "print(t)\n",
    "print(datetime.datetime.fromtimestamp(path.getmtime(\"textfile.txt\")))"
   ]
  },
  {
   "cell_type": "code",
   "execution_count": 17,
   "metadata": {},
   "outputs": [
    {
     "name": "stdout",
     "output_type": "stream",
     "text": [
      "1213.262801\n"
     ]
    }
   ],
   "source": [
    "# calculating how long since a file has been modified\n",
    "td = datetime.datetime.now() - datetime.datetime.fromtimestamp(path.getmtime(\"textfile.txt\"))\n",
    "print(td)"
   ]
  }
 ],
 "metadata": {
  "interpreter": {
   "hash": "b89b5cfaba6639976dc87ff2fec6d58faec662063367e2c229c520fe71072417"
  },
  "kernelspec": {
   "display_name": "Python 3.10.1 64-bit",
   "language": "python",
   "name": "python3"
  },
  "language_info": {
   "codemirror_mode": {
    "name": "ipython",
    "version": 3
   },
   "file_extension": ".py",
   "mimetype": "text/x-python",
   "name": "python",
   "nbconvert_exporter": "python",
   "pygments_lexer": "ipython3",
   "version": "3.10.1"
  },
  "orig_nbformat": 4
 },
 "nbformat": 4,
 "nbformat_minor": 2
}

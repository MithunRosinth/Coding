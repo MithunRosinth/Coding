{
 "cells": [
  {
   "cell_type": "code",
   "execution_count": 2,
   "metadata": {},
   "outputs": [],
   "source": [
    "# basic function\n",
    "# definition\n",
    "def my_fun1():\n",
    "    print(\"hello world\")"
   ]
  },
  {
   "cell_type": "code",
   "execution_count": 3,
   "metadata": {},
   "outputs": [
    {
     "name": "stdout",
     "output_type": "stream",
     "text": [
      "hello world\n",
      "hello world\n",
      "None\n",
      "<function my_fun1 at 0x000001D2C53981F0>\n"
     ]
    }
   ],
   "source": [
    "# different calls to this functions\n",
    "# Just call the function and execute its contents\n",
    "my_fun1()\n",
    "# Call the function inside the print function -> the executed result and the return value are printed\n",
    "print(my_fun1())\n",
    "# Prints the positional details of the reference of the function\n",
    "print(my_fun1)"
   ]
  },
  {
   "cell_type": "code",
   "execution_count": 8,
   "metadata": {},
   "outputs": [
    {
     "name": "stdout",
     "output_type": "stream",
     "text": [
      "Mithun   Rosinth\n",
      "hello   world\n",
      "Mithun   Rosinth\n",
      "None\n",
      "<function my_fun2 at 0x000001D2C6A6FD00>\n"
     ]
    }
   ],
   "source": [
    "# Function with arguments\n",
    "def my_fun2(arg1,arg2):\n",
    "    print(arg1,\" \",arg2)\n",
    "\n",
    "my_fun2(\"Mithun\",\"Rosinth\")\n",
    "my_fun2(arg2=\"world\", arg1=\"hello\")\n",
    "print(my_fun2(\"Mithun\",\"Rosinth\"))\n",
    "print(my_fun2)\n"
   ]
  },
  {
   "cell_type": "code",
   "execution_count": 6,
   "metadata": {},
   "outputs": [
    {
     "name": "stdout",
     "output_type": "stream",
     "text": [
      "2\n",
      "<function my_fun3 at 0x000001D2C6A6EE60>\n"
     ]
    }
   ],
   "source": [
    "# Function with return value\n",
    "def my_fun3(arg1):\n",
    "    return arg1*2\n",
    "\n",
    "my_fun3(1)\n",
    "print(my_fun3(1))\n",
    "print(my_fun3)"
   ]
  },
  {
   "cell_type": "code",
   "execution_count": 7,
   "metadata": {},
   "outputs": [
    {
     "name": "stdout",
     "output_type": "stream",
     "text": [
      "10\n",
      "4\n"
     ]
    }
   ],
   "source": [
    "# Function with default argument -> if argument is not passed during the call then the default values is taken\n",
    "def my_fun4(arg1=2):\n",
    "    print(arg1*2)\n",
    "\n",
    "my_fun4(5)\n",
    "my_fun4()"
   ]
  },
  {
   "cell_type": "code",
   "execution_count": null,
   "metadata": {},
   "outputs": [],
   "source": [
    "# function with variable number of arguments\n",
    "def my_fun5(*args):\n",
    "    result=0\n",
    "    for num in args:\n",
    "        result+=num\n",
    "    print(result)\n",
    "\n",
    "my_fun5(1,2,3,4,5)"
   ]
  }
 ],
 "metadata": {
  "interpreter": {
   "hash": "b89b5cfaba6639976dc87ff2fec6d58faec662063367e2c229c520fe71072417"
  },
  "kernelspec": {
   "display_name": "Python 3.10.1 64-bit",
   "language": "python",
   "name": "python3"
  },
  "language_info": {
   "codemirror_mode": {
    "name": "ipython",
    "version": 3
   },
   "file_extension": ".py",
   "mimetype": "text/x-python",
   "name": "python",
   "nbconvert_exporter": "python",
   "pygments_lexer": "ipython3",
   "version": "3.10.1"
  },
  "orig_nbformat": 4
 },
 "nbformat": 4,
 "nbformat_minor": 2
}

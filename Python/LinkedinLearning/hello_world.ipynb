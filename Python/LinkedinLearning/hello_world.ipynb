{
 "cells": [
  {
   "cell_type": "code",
   "execution_count": 2,
   "metadata": {},
   "outputs": [
    {
     "name": "stdout",
     "output_type": "stream",
     "text": [
      "Hello World!\n",
      "Your name is Mithun\n"
     ]
    }
   ],
   "source": [
    "# Standard Print Function\n",
    "print(\"Hello World!\")\n",
    "\n",
    "# Standard input\n",
    "name = input(\"What is your name?\")\n",
    "\n",
    "# Print the input\n",
    "print(\"Your name is\", name)"
   ]
  },
  {
   "cell_type": "code",
   "execution_count": 3,
   "metadata": {},
   "outputs": [
    {
     "name": "stdout",
     "output_type": "stream",
     "text": [
      "Hello World!\n",
      "Your name is Mithun Rosinth\n"
     ]
    }
   ],
   "source": [
    "# Defining a function -> Notice the white spaces (indendation)\n",
    "def main():\n",
    "    print(\"Hello World!\")\n",
    "    name = input(\"What is your name?\")\n",
    "    print(\"Your name is\", name)\n",
    "\n",
    "# The below lines help to evaluate if the program is excuted on its own or is imported as a separate module\n",
    "# In this case as the main function is called within, the program executes on its own\n",
    "if __name__==\"__main__\":\n",
    "    main()"
   ]
  }
 ],
 "metadata": {
  "interpreter": {
   "hash": "b89b5cfaba6639976dc87ff2fec6d58faec662063367e2c229c520fe71072417"
  },
  "kernelspec": {
   "display_name": "Python 3.10.1 64-bit",
   "language": "python",
   "name": "python3"
  },
  "language_info": {
   "codemirror_mode": {
    "name": "ipython",
    "version": 3
   },
   "file_extension": ".py",
   "mimetype": "text/x-python",
   "name": "python",
   "nbconvert_exporter": "python",
   "pygments_lexer": "ipython3",
   "version": "3.10.1"
  },
  "orig_nbformat": 4
 },
 "nbformat": 4,
 "nbformat_minor": 2
}

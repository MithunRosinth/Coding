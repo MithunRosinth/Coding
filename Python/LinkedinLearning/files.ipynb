{
 "cells": [
  {
   "cell_type": "code",
   "execution_count": 1,
   "metadata": {},
   "outputs": [],
   "source": [
    "# Open a file for write and create if it does not exist\n",
    "f=open(\"textfile.txt\", \"w+\")\n"
   ]
  },
  {
   "cell_type": "code",
   "execution_count": 2,
   "metadata": {},
   "outputs": [],
   "source": [
    "# Write some line of data\n",
    "\n",
    "for i in range(10):\n",
    "    f.write(\"This is Line \"+ str(i)+ \"\\r\\n\")\n",
    "\n",
    "f.close()"
   ]
  },
  {
   "cell_type": "code",
   "execution_count": 3,
   "metadata": {},
   "outputs": [],
   "source": [
    "# Open a file for appending\n",
    "f=open(\"textfile.txt\", \"a\")"
   ]
  },
  {
   "cell_type": "code",
   "execution_count": 4,
   "metadata": {},
   "outputs": [],
   "source": [
    "for i in range(10):\n",
    "    f.write(\"This is Line \"+ str(i)+ \"\\r\\n\")\n",
    "\n",
    "f.close()"
   ]
  },
  {
   "cell_type": "code",
   "execution_count": 6,
   "metadata": {},
   "outputs": [
    {
     "name": "stdout",
     "output_type": "stream",
     "text": [
      "This is Line 0\n",
      "\n",
      "This is Line 1\n",
      "\n",
      "This is Line 2\n",
      "\n",
      "This is Line 3\n",
      "\n",
      "This is Line 4\n",
      "\n",
      "This is Line 5\n",
      "\n",
      "This is Line 6\n",
      "\n",
      "This is Line 7\n",
      "\n",
      "This is Line 8\n",
      "\n",
      "This is Line 9\n",
      "\n",
      "This is Line 0\n",
      "\n",
      "This is Line 1\n",
      "\n",
      "This is Line 2\n",
      "\n",
      "This is Line 3\n",
      "\n",
      "This is Line 4\n",
      "\n",
      "This is Line 5\n",
      "\n",
      "This is Line 6\n",
      "\n",
      "This is Line 7\n",
      "\n",
      "This is Line 8\n",
      "\n",
      "This is Line 9\n",
      "\n",
      "\n"
     ]
    }
   ],
   "source": [
    "# Reading file contents -> the file as a whole\n",
    "f=open(\"textfile.txt\", \"r\")\n",
    "if f.mode=='r':\n",
    "    contents=f.read()\n",
    "    print(contents)\n",
    "f.close()"
   ]
  },
  {
   "cell_type": "code",
   "execution_count": null,
   "metadata": {},
   "outputs": [],
   "source": [
    "# Reading file contents -> the file as a whole\n",
    "f=open(\"textfile.txt\", \"r\")\n",
    "if f.mode=='r':\n",
    "    contents=f.readlines()\n",
    "    for x in contents:\n",
    "        print(x)\n",
    "f.close()"
   ]
  }
 ],
 "metadata": {
  "interpreter": {
   "hash": "b89b5cfaba6639976dc87ff2fec6d58faec662063367e2c229c520fe71072417"
  },
  "kernelspec": {
   "display_name": "Python 3.10.1 64-bit",
   "language": "python",
   "name": "python3"
  },
  "language_info": {
   "codemirror_mode": {
    "name": "ipython",
    "version": 3
   },
   "file_extension": ".py",
   "mimetype": "text/x-python",
   "name": "python",
   "nbconvert_exporter": "python",
   "pygments_lexer": "ipython3",
   "version": "3.10.1"
  },
  "orig_nbformat": 4
 },
 "nbformat": 4,
 "nbformat_minor": 2
}

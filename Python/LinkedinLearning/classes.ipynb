{
 "cells": [
  {
   "cell_type": "code",
   "execution_count": 4,
   "metadata": {},
   "outputs": [
    {
     "name": "stdout",
     "output_type": "stream",
     "text": [
      "class method1\n",
      "class method2 Hello world!\n"
     ]
    }
   ],
   "source": [
    "# Defining a class  -> use 'class' keyword\n",
    "# self -> the object itself\n",
    "# the self parameter need not be passed to method calls -> but it has to passed when a method is invoked inside a class\n",
    "\n",
    "class myClass():\n",
    "    def method1(self):\n",
    "        print(\"class method1\")\n",
    "    def method2(self, msg):\n",
    "        print(\"class method2\"+\" \"+msg)\n",
    "\n",
    "c=myClass()\n",
    "c.method1()\n",
    "c.method2(\"Hello world!\")"
   ]
  },
  {
   "cell_type": "code",
   "execution_count": 6,
   "metadata": {},
   "outputs": [
    {
     "name": "stdout",
     "output_type": "stream",
     "text": [
      "class method1\n",
      "class2 method1\n",
      "class2 method2\n"
     ]
    }
   ],
   "source": [
    "# inheritence\n",
    "class myClass2(myClass):\n",
    "    def method1(self):\n",
    "        myClass.method1(self)\n",
    "        print(\"class2 method1\")\n",
    "    def method2(self, msg):\n",
    "        print(\"class2 method2\")\n",
    "\n",
    "c2=myClass2()\n",
    "c2.method1()\n",
    "c2.method2(\"Hello world!\")"
   ]
  }
 ],
 "metadata": {
  "interpreter": {
   "hash": "b89b5cfaba6639976dc87ff2fec6d58faec662063367e2c229c520fe71072417"
  },
  "kernelspec": {
   "display_name": "Python 3.10.1 64-bit",
   "language": "python",
   "name": "python3"
  },
  "language_info": {
   "codemirror_mode": {
    "name": "ipython",
    "version": 3
   },
   "file_extension": ".py",
   "mimetype": "text/x-python",
   "name": "python",
   "nbconvert_exporter": "python",
   "pygments_lexer": "ipython3",
   "version": "3.10.1"
  },
  "orig_nbformat": 4
 },
 "nbformat": 4,
 "nbformat_minor": 2
}

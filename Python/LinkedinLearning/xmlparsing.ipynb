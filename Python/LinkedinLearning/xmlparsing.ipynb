{
 "cells": [
  {
   "cell_type": "code",
   "execution_count": 1,
   "metadata": {},
   "outputs": [
    {
     "name": "stdout",
     "output_type": "stream",
     "text": [
      "#document\n",
      "person\n"
     ]
    }
   ],
   "source": [
    "import xml.dom.minidom\n",
    "\n",
    "# parse fucntion to load and parse the xml file\n",
    "\n",
    "doc=xml.dom.minidom.parse(\"samplexml.xml\")\n",
    "\n",
    "# root and first child tag name\n",
    "\n",
    "print(doc.nodeName)\n",
    "print(doc.firstChild.tagName)"
   ]
  },
  {
   "cell_type": "code",
   "execution_count": 6,
   "metadata": {},
   "outputs": [
    {
     "name": "stdout",
     "output_type": "stream",
     "text": [
      "5 skills: \n",
      "JavaScript\n",
      "Python\n",
      "C#\n",
      "HTML\n",
      "jquery\n"
     ]
    }
   ],
   "source": [
    "# Get a list of elements and print them\n",
    "\n",
    "skills = doc.getElementsByTagName(\"skill\")\n",
    "print(\"%d skills: \" % skills.length)\n",
    "for skill in skills:\n",
    "    print(skill.getAttribute(\"name\"))"
   ]
  },
  {
   "cell_type": "code",
   "execution_count": 7,
   "metadata": {},
   "outputs": [
    {
     "data": {
      "text/plain": [
       "<DOM Element: skill at 0x250819d3d00>"
      ]
     },
     "execution_count": 7,
     "metadata": {},
     "output_type": "execute_result"
    }
   ],
   "source": [
    "# Creating new xml tag and appending it to the xml file\n",
    "\n",
    "newSkill = doc.createElement(\"skill\")\n",
    "newSkill.setAttribute(\"name\",\"RDBMS\")\n",
    "doc.firstChild.appendChild(newSkill)"
   ]
  },
  {
   "cell_type": "code",
   "execution_count": 8,
   "metadata": {},
   "outputs": [
    {
     "name": "stdout",
     "output_type": "stream",
     "text": [
      "6 skills: \n",
      "JavaScript\n",
      "Python\n",
      "C#\n",
      "HTML\n",
      "jquery\n",
      "RDBMS\n"
     ]
    }
   ],
   "source": [
    "skills = doc.getElementsByTagName(\"skill\")\n",
    "print(\"%d skills: \" % skills.length)\n",
    "for skill in skills:\n",
    "    print(skill.getAttribute(\"name\"))"
   ]
  }
 ],
 "metadata": {
  "interpreter": {
   "hash": "b89b5cfaba6639976dc87ff2fec6d58faec662063367e2c229c520fe71072417"
  },
  "kernelspec": {
   "display_name": "Python 3.10.1 64-bit",
   "language": "python",
   "name": "python3"
  },
  "language_info": {
   "codemirror_mode": {
    "name": "ipython",
    "version": 3
   },
   "file_extension": ".py",
   "mimetype": "text/x-python",
   "name": "python",
   "nbconvert_exporter": "python",
   "pygments_lexer": "ipython3",
   "version": "3.10.1"
  },
  "orig_nbformat": 4
 },
 "nbformat": 4,
 "nbformat_minor": 2
}

{
 "cells": [
  {
   "cell_type": "code",
   "execution_count": 3,
   "metadata": {},
   "outputs": [
    {
     "name": "stdout",
     "output_type": "stream",
     "text": [
      "365 days, 5:01:00\n",
      "2023-01-23 15:44:49.092825\n"
     ]
    }
   ],
   "source": [
    "#Perfoming calculations on date and time values\n",
    "from datetime import date\n",
    "from datetime import time\n",
    "from datetime import datetime\n",
    "from datetime import timedelta\n",
    "\n",
    "# Contructing a timedelta\n",
    "print(timedelta(days=365,hours=5,minutes=1))\n",
    "\n",
    "now=datetime.now()\n",
    "# operations\n",
    "print(str(now + timedelta(days=365)))"
   ]
  },
  {
   "cell_type": "code",
   "execution_count": 4,
   "metadata": {},
   "outputs": [
    {
     "name": "stdout",
     "output_type": "stream",
     "text": [
      "2022-02-15 15:44:49.092825\n"
     ]
    }
   ],
   "source": [
    "print(str(now+ timedelta(days=2, weeks=3)))"
   ]
  },
  {
   "cell_type": "code",
   "execution_count": 7,
   "metadata": {},
   "outputs": [
    {
     "name": "stdout",
     "output_type": "stream",
     "text": [
      "Thu Dec 24, 2020\n"
     ]
    }
   ],
   "source": [
    "# Day calculation in past\n",
    "t=(now - timedelta(days=367,weeks=4))\n",
    "s=t.strftime(\"%a %b %d, %Y\")\n",
    "print(s)"
   ]
  },
  {
   "cell_type": "code",
   "execution_count": 9,
   "metadata": {},
   "outputs": [
    {
     "ename": "AttributeError",
     "evalue": "'datetime.date' object has no attribute 'days'",
     "output_type": "error",
     "traceback": [
      "\u001b[1;31m---------------------------------------------------------------------------\u001b[0m",
      "\u001b[1;31mAttributeError\u001b[0m                            Traceback (most recent call last)",
      "Input \u001b[1;32mIn [9]\u001b[0m, in \u001b[0;36m<module>\u001b[1;34m\u001b[0m\n\u001b[0;32m      7\u001b[0m     target\u001b[38;5;241m=\u001b[39mtarget\u001b[38;5;241m.\u001b[39mreplace(year\u001b[38;5;241m=\u001b[39mtoday\u001b[38;5;241m.\u001b[39myear\u001b[38;5;241m+\u001b[39m\u001b[38;5;241m1\u001b[39m)\n\u001b[0;32m      9\u001b[0m time_to_target\u001b[38;5;241m=\u001b[39mtarget\u001b[38;5;241m-\u001b[39mtoday\n\u001b[1;32m---> 10\u001b[0m \u001b[38;5;28mprint\u001b[39m(\u001b[43mtarget\u001b[49m\u001b[38;5;241;43m.\u001b[39;49m\u001b[43mdays\u001b[49m)\n",
      "\u001b[1;31mAttributeError\u001b[0m: 'datetime.date' object has no attribute 'days'"
     ]
    }
   ],
   "source": [
    "# Calculating days until a particular date\n",
    "today=date.today()\n",
    "target=date(today.year, 11,20)\n",
    "\n",
    "if target<today:\n",
    "    print(\"Already done! %d ago\"% (today-target).days())\n",
    "    target=target.replace(year=today.year+1)\n",
    "\n",
    "time_to_target=target-today\n",
    "print(time_to_target.days)"
   ]
  }
 ],
 "metadata": {
  "interpreter": {
   "hash": "b89b5cfaba6639976dc87ff2fec6d58faec662063367e2c229c520fe71072417"
  },
  "kernelspec": {
   "display_name": "Python 3.10.1 64-bit",
   "language": "python",
   "name": "python3"
  },
  "language_info": {
   "codemirror_mode": {
    "name": "ipython",
    "version": 3
   },
   "file_extension": ".py",
   "mimetype": "text/x-python",
   "name": "python",
   "nbconvert_exporter": "python",
   "pygments_lexer": "ipython3",
   "version": "3.10.1"
  },
  "orig_nbformat": 4
 },
 "nbformat": 4,
 "nbformat_minor": 2
}

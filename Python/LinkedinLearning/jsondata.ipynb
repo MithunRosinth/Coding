{
 "cells": [
  {
   "cell_type": "code",
   "execution_count": 2,
   "metadata": {},
   "outputs": [
    {
     "name": "stdout",
     "output_type": "stream",
     "text": [
      "200\n",
      "USGS Magnitude 2.5+ Earthquakes, Past Day\n",
      "42\n",
      "64 km ESE of Pedro Bay, Alaska\n",
      "77 km S of Alcan Border, Alaska\n",
      "47 km NW of Nuku‘alofa, Tonga\n",
      "1 km S of Pāhala, Hawaii\n",
      "14 km N of Anse Rouge, Haiti\n",
      "4 km SW of Tallaboa, Puerto Rico\n",
      "12 km ENE of Pāhala, Hawaii\n",
      "19km W of Petrolia, CA\n",
      "70 km ESE of Manay, Philippines\n",
      "68 km ESE of Manay, Philippines\n",
      "10 km NW of Tabriz, Iran\n",
      "14 km SSE of Corani, Peru\n",
      "147 km SSW of Laojunmiao, China\n",
      "3 km SSW of Pāhala, Hawaii\n",
      "4 km SSW of Pāhala, Hawaii\n",
      "152 km S of Laojunmiao, China\n",
      "7km NW of The Geysers, CA\n",
      "6km WNW of Walker, CA\n",
      "247 km SE of Sarangani, Philippines\n",
      "39 km NNW of Ryōtsu-minato, Japan\n",
      "70 km S of Palekastro, Greece\n",
      "26 km SW of Mina, Nevada\n",
      "26 km SW of Mina, Nevada\n",
      "25 km SW of Mina, Nevada\n",
      "6 km WNW of Bagalangit, Philippines\n",
      "65 km N of Isangel, Vanuatu\n",
      "4 km WSW of Waqqāş, Jordan\n",
      "73 km NNW of Nuku‘alofa, Tonga\n",
      "5 km W of Fuig, Puerto Rico\n",
      "80 km SE of King Salmon, Alaska\n",
      "78 km SW of Karluk, Alaska\n",
      "33 km WNW of San Pedro de Atacama, Chile\n",
      "29 km WNW of San Pedro de Atacama, Chile\n",
      "17 km E of Dursunbey, Turkey\n",
      "57 km WNW of Nanwalek, Alaska\n",
      "186 km SSW of Akhiok, Alaska\n",
      "3 km WSW of Pāhala, Hawaii\n",
      "0 km SSE of Pāhala, Hawaii\n",
      "Ascension Island region\n",
      "82 km WNW of San Antonio de los Cobres, Argentina\n",
      "West Chile Rise\n",
      "56 km NNE of Cruz Bay, U.S. Virgin Islands\n"
     ]
    }
   ],
   "source": [
    "import urllib.request\n",
    "import json\n",
    "\n",
    "urlData=\"http://earthquake.usgs.gov/earthquakes/feed/v1.0/summary/2.5_day.geojson\"\n",
    "\n",
    "webUrl=urllib.request.urlopen(urlData)\n",
    "print(str(webUrl.getcode()))\n",
    "\n",
    "if(webUrl.getcode() == 200):\n",
    "    data = webUrl.read()\n",
    "    jdata=json.loads(data) # takes json file and parses into a accessible python object\n",
    "    if \"title\" in jdata[\"metadata\"]: # the file spec was taken from the site and the data items specified are clearly layed out in the web site\n",
    "        print(jdata[\"metadata\"][\"title\"]) \n",
    "    count = jdata[\"metadata\"][\"count\"]\n",
    "    print(count)\n",
    "    for i in jdata[\"features\"]: # there is features array\n",
    "        print(i [\"properties\"][\"place\"])\n",
    "        "
   ]
  },
  {
   "cell_type": "code",
   "execution_count": 3,
   "metadata": {},
   "outputs": [
    {
     "name": "stdout",
     "output_type": "stream",
     "text": [
      "4.6 47 km NW of Nuku‘alofa, Tonga\n",
      "4.3 14 km N of Anse Rouge, Haiti\n",
      "5.1 70 km ESE of Manay, Philippines\n",
      "4.9 68 km ESE of Manay, Philippines\n",
      "4.1 10 km NW of Tabriz, Iran\n",
      "4.3 14 km SSE of Corani, Peru\n",
      "4.2 147 km SSW of Laojunmiao, China\n",
      "5.6 152 km S of Laojunmiao, China\n",
      "4.7 247 km SE of Sarangani, Philippines\n",
      "4.3 39 km NNW of Ryōtsu-minato, Japan\n",
      "4.7 70 km S of Palekastro, Greece\n",
      "4.3 25 km SW of Mina, Nevada\n",
      "4.9 6 km WNW of Bagalangit, Philippines\n",
      "5.1 65 km N of Isangel, Vanuatu\n",
      "4.1 4 km WSW of Waqqāş, Jordan\n",
      "4.8 73 km NNW of Nuku‘alofa, Tonga\n",
      "4.5 33 km WNW of San Pedro de Atacama, Chile\n",
      "4.6 29 km WNW of San Pedro de Atacama, Chile\n",
      "4.7 17 km E of Dursunbey, Turkey\n",
      "5.1 Ascension Island region\n",
      "4.4 82 km WNW of San Antonio de los Cobres, Argentina\n",
      "5.3 West Chile Rise\n"
     ]
    }
   ],
   "source": [
    "# using various properties\n",
    "\n",
    "for i in jdata[\"features\"]:\n",
    "    if i[\"properties\"][\"mag\"] >=4.0:\n",
    "        print(\"%2.1f\" % i[\"properties\"][\"mag\"], i[\"properties\"][\"place\"])"
   ]
  },
  {
   "cell_type": "code",
   "execution_count": 4,
   "metadata": {},
   "outputs": [
    {
     "ename": "TypeError",
     "evalue": "'>' not supported between instances of 'NoneType' and 'int'",
     "output_type": "error",
     "traceback": [
      "\u001b[1;31m---------------------------------------------------------------------------\u001b[0m",
      "\u001b[1;31mTypeError\u001b[0m                                 Traceback (most recent call last)",
      "Input \u001b[1;32mIn [4]\u001b[0m, in \u001b[0;36m<module>\u001b[1;34m\u001b[0m\n\u001b[0;32m      1\u001b[0m \u001b[38;5;28;01mfor\u001b[39;00m i \u001b[38;5;129;01min\u001b[39;00m jdata[\u001b[38;5;124m\"\u001b[39m\u001b[38;5;124mfeatures\u001b[39m\u001b[38;5;124m\"\u001b[39m]:\n\u001b[1;32m----> 2\u001b[0m     \u001b[38;5;28;01mif\u001b[39;00m \u001b[43mi\u001b[49m\u001b[43m[\u001b[49m\u001b[38;5;124;43m\"\u001b[39;49m\u001b[38;5;124;43mproperties\u001b[39;49m\u001b[38;5;124;43m\"\u001b[39;49m\u001b[43m]\u001b[49m\u001b[43m[\u001b[49m\u001b[38;5;124;43m\"\u001b[39;49m\u001b[38;5;124;43mfelt\u001b[39;49m\u001b[38;5;124;43m\"\u001b[39;49m\u001b[43m]\u001b[49m\u001b[43m \u001b[49m\u001b[38;5;241;43m>\u001b[39;49m\u001b[43m \u001b[49m\u001b[38;5;241;43m1\u001b[39;49m:\n\u001b[0;32m      3\u001b[0m         \u001b[38;5;28mprint\u001b[39m(\u001b[38;5;124m\"\u001b[39m\u001b[38;5;132;01m%2.1f\u001b[39;00m\u001b[38;5;124m\"\u001b[39m \u001b[38;5;241m%\u001b[39m i[\u001b[38;5;124m\"\u001b[39m\u001b[38;5;124mproperties\u001b[39m\u001b[38;5;124m\"\u001b[39m][\u001b[38;5;124m\"\u001b[39m\u001b[38;5;124mmag\u001b[39m\u001b[38;5;124m\"\u001b[39m], i[\u001b[38;5;124m\"\u001b[39m\u001b[38;5;124mproperties\u001b[39m\u001b[38;5;124m\"\u001b[39m][\u001b[38;5;124m\"\u001b[39m\u001b[38;5;124mplace\u001b[39m\u001b[38;5;124m\"\u001b[39m], i [\u001b[38;5;124m\"\u001b[39m\u001b[38;5;124mproperties\u001b[39m\u001b[38;5;124m\"\u001b[39m][\u001b[38;5;124m\"\u001b[39m\u001b[38;5;124mfelt\u001b[39m\u001b[38;5;124m\"\u001b[39m])\n",
      "\u001b[1;31mTypeError\u001b[0m: '>' not supported between instances of 'NoneType' and 'int'"
     ]
    }
   ],
   "source": [
    "for i in jdata[\"features\"]:\n",
    "    if i[\"properties\"][\"felt\"] != None:\n",
    "        if i[\"properties\"][\"felt\"] >0:\n",
    "            print(\"%2.1f\" % i[\"properties\"][\"mag\"], i[\"properties\"][\"place\"], i [\"properties\"][\"felt\"])"
   ]
  }
 ],
 "metadata": {
  "interpreter": {
   "hash": "b89b5cfaba6639976dc87ff2fec6d58faec662063367e2c229c520fe71072417"
  },
  "kernelspec": {
   "display_name": "Python 3.10.1 64-bit",
   "language": "python",
   "name": "python3"
  },
  "language_info": {
   "codemirror_mode": {
    "name": "ipython",
    "version": 3
   },
   "file_extension": ".py",
   "mimetype": "text/x-python",
   "name": "python",
   "nbconvert_exporter": "python",
   "pygments_lexer": "ipython3",
   "version": "3.10.1"
  },
  "orig_nbformat": 4
 },
 "nbformat": 4,
 "nbformat_minor": 2
}
